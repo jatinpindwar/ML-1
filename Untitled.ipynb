{
 "cells": [
  {
   "cell_type": "code",
   "execution_count": 1,
   "id": "5de0097f",
   "metadata": {},
   "outputs": [],
   "source": [
    "import pandas as pd\n",
    "import numpy as np\n",
    "import matplotlib.pyplot as plt\n",
    "import seaborn as sns"
   ]
  },
  {
   "cell_type": "code",
   "execution_count": 2,
   "id": "043d369d",
   "metadata": {},
   "outputs": [],
   "source": [
    "df=pd.read_csv(\"C:\\\\Users\\\\jatin\\\\python files\\\\Machine Learning\\\\project\\\\project2\\\\Dataset for the project\\\\train.csv\")\n",
    "test_data=pd.read_csv('C:\\\\Users\\\\jatin\\\\python files\\\\Machine Learning\\\\project\\\\project2\\\\Dataset for the project\\\\test.csv')"
   ]
  },
  {
   "cell_type": "code",
   "execution_count": 3,
   "id": "93bde2f7",
   "metadata": {},
   "outputs": [
    {
     "data": {
      "text/html": [
       "<div>\n",
       "<style scoped>\n",
       "    .dataframe tbody tr th:only-of-type {\n",
       "        vertical-align: middle;\n",
       "    }\n",
       "\n",
       "    .dataframe tbody tr th {\n",
       "        vertical-align: top;\n",
       "    }\n",
       "\n",
       "    .dataframe thead th {\n",
       "        text-align: right;\n",
       "    }\n",
       "</style>\n",
       "<table border=\"1\" class=\"dataframe\">\n",
       "  <thead>\n",
       "    <tr style=\"text-align: right;\">\n",
       "      <th></th>\n",
       "      <th>Id</th>\n",
       "      <th>v2a1</th>\n",
       "      <th>hacdor</th>\n",
       "      <th>rooms</th>\n",
       "      <th>hacapo</th>\n",
       "      <th>v14a</th>\n",
       "      <th>refrig</th>\n",
       "      <th>v18q</th>\n",
       "      <th>v18q1</th>\n",
       "      <th>r4h1</th>\n",
       "      <th>...</th>\n",
       "      <th>SQBescolari</th>\n",
       "      <th>SQBage</th>\n",
       "      <th>SQBhogar_total</th>\n",
       "      <th>SQBedjefe</th>\n",
       "      <th>SQBhogar_nin</th>\n",
       "      <th>SQBovercrowding</th>\n",
       "      <th>SQBdependency</th>\n",
       "      <th>SQBmeaned</th>\n",
       "      <th>agesq</th>\n",
       "      <th>Target</th>\n",
       "    </tr>\n",
       "  </thead>\n",
       "  <tbody>\n",
       "    <tr>\n",
       "      <th>0</th>\n",
       "      <td>ID_279628684</td>\n",
       "      <td>190000.0</td>\n",
       "      <td>0</td>\n",
       "      <td>3</td>\n",
       "      <td>0</td>\n",
       "      <td>1</td>\n",
       "      <td>1</td>\n",
       "      <td>0</td>\n",
       "      <td>NaN</td>\n",
       "      <td>0</td>\n",
       "      <td>...</td>\n",
       "      <td>100</td>\n",
       "      <td>1849</td>\n",
       "      <td>1</td>\n",
       "      <td>100</td>\n",
       "      <td>0</td>\n",
       "      <td>1.000000</td>\n",
       "      <td>0.0</td>\n",
       "      <td>100.0</td>\n",
       "      <td>1849</td>\n",
       "      <td>4</td>\n",
       "    </tr>\n",
       "    <tr>\n",
       "      <th>1</th>\n",
       "      <td>ID_f29eb3ddd</td>\n",
       "      <td>135000.0</td>\n",
       "      <td>0</td>\n",
       "      <td>4</td>\n",
       "      <td>0</td>\n",
       "      <td>1</td>\n",
       "      <td>1</td>\n",
       "      <td>1</td>\n",
       "      <td>1.0</td>\n",
       "      <td>0</td>\n",
       "      <td>...</td>\n",
       "      <td>144</td>\n",
       "      <td>4489</td>\n",
       "      <td>1</td>\n",
       "      <td>144</td>\n",
       "      <td>0</td>\n",
       "      <td>1.000000</td>\n",
       "      <td>64.0</td>\n",
       "      <td>144.0</td>\n",
       "      <td>4489</td>\n",
       "      <td>4</td>\n",
       "    </tr>\n",
       "    <tr>\n",
       "      <th>2</th>\n",
       "      <td>ID_68de51c94</td>\n",
       "      <td>NaN</td>\n",
       "      <td>0</td>\n",
       "      <td>8</td>\n",
       "      <td>0</td>\n",
       "      <td>1</td>\n",
       "      <td>1</td>\n",
       "      <td>0</td>\n",
       "      <td>NaN</td>\n",
       "      <td>0</td>\n",
       "      <td>...</td>\n",
       "      <td>121</td>\n",
       "      <td>8464</td>\n",
       "      <td>1</td>\n",
       "      <td>0</td>\n",
       "      <td>0</td>\n",
       "      <td>0.250000</td>\n",
       "      <td>64.0</td>\n",
       "      <td>121.0</td>\n",
       "      <td>8464</td>\n",
       "      <td>4</td>\n",
       "    </tr>\n",
       "    <tr>\n",
       "      <th>3</th>\n",
       "      <td>ID_d671db89c</td>\n",
       "      <td>180000.0</td>\n",
       "      <td>0</td>\n",
       "      <td>5</td>\n",
       "      <td>0</td>\n",
       "      <td>1</td>\n",
       "      <td>1</td>\n",
       "      <td>1</td>\n",
       "      <td>1.0</td>\n",
       "      <td>0</td>\n",
       "      <td>...</td>\n",
       "      <td>81</td>\n",
       "      <td>289</td>\n",
       "      <td>16</td>\n",
       "      <td>121</td>\n",
       "      <td>4</td>\n",
       "      <td>1.777778</td>\n",
       "      <td>1.0</td>\n",
       "      <td>121.0</td>\n",
       "      <td>289</td>\n",
       "      <td>4</td>\n",
       "    </tr>\n",
       "    <tr>\n",
       "      <th>4</th>\n",
       "      <td>ID_d56d6f5f5</td>\n",
       "      <td>180000.0</td>\n",
       "      <td>0</td>\n",
       "      <td>5</td>\n",
       "      <td>0</td>\n",
       "      <td>1</td>\n",
       "      <td>1</td>\n",
       "      <td>1</td>\n",
       "      <td>1.0</td>\n",
       "      <td>0</td>\n",
       "      <td>...</td>\n",
       "      <td>121</td>\n",
       "      <td>1369</td>\n",
       "      <td>16</td>\n",
       "      <td>121</td>\n",
       "      <td>4</td>\n",
       "      <td>1.777778</td>\n",
       "      <td>1.0</td>\n",
       "      <td>121.0</td>\n",
       "      <td>1369</td>\n",
       "      <td>4</td>\n",
       "    </tr>\n",
       "  </tbody>\n",
       "</table>\n",
       "<p>5 rows × 143 columns</p>\n",
       "</div>"
      ],
      "text/plain": [
       "             Id      v2a1  hacdor  rooms  hacapo  v14a  refrig  v18q  v18q1  \\\n",
       "0  ID_279628684  190000.0       0      3       0     1       1     0    NaN   \n",
       "1  ID_f29eb3ddd  135000.0       0      4       0     1       1     1    1.0   \n",
       "2  ID_68de51c94       NaN       0      8       0     1       1     0    NaN   \n",
       "3  ID_d671db89c  180000.0       0      5       0     1       1     1    1.0   \n",
       "4  ID_d56d6f5f5  180000.0       0      5       0     1       1     1    1.0   \n",
       "\n",
       "   r4h1  ...  SQBescolari  SQBage  SQBhogar_total  SQBedjefe  SQBhogar_nin  \\\n",
       "0     0  ...          100    1849               1        100             0   \n",
       "1     0  ...          144    4489               1        144             0   \n",
       "2     0  ...          121    8464               1          0             0   \n",
       "3     0  ...           81     289              16        121             4   \n",
       "4     0  ...          121    1369              16        121             4   \n",
       "\n",
       "   SQBovercrowding  SQBdependency  SQBmeaned  agesq  Target  \n",
       "0         1.000000            0.0      100.0   1849       4  \n",
       "1         1.000000           64.0      144.0   4489       4  \n",
       "2         0.250000           64.0      121.0   8464       4  \n",
       "3         1.777778            1.0      121.0    289       4  \n",
       "4         1.777778            1.0      121.0   1369       4  \n",
       "\n",
       "[5 rows x 143 columns]"
      ]
     },
     "execution_count": 3,
     "metadata": {},
     "output_type": "execute_result"
    }
   ],
   "source": [
    "df.head()"
   ]
  },
  {
   "cell_type": "code",
   "execution_count": 4,
   "id": "bd0df21b",
   "metadata": {},
   "outputs": [
    {
     "data": {
      "text/html": [
       "<div>\n",
       "<style scoped>\n",
       "    .dataframe tbody tr th:only-of-type {\n",
       "        vertical-align: middle;\n",
       "    }\n",
       "\n",
       "    .dataframe tbody tr th {\n",
       "        vertical-align: top;\n",
       "    }\n",
       "\n",
       "    .dataframe thead th {\n",
       "        text-align: right;\n",
       "    }\n",
       "</style>\n",
       "<table border=\"1\" class=\"dataframe\">\n",
       "  <thead>\n",
       "    <tr style=\"text-align: right;\">\n",
       "      <th></th>\n",
       "      <th>Id</th>\n",
       "      <th>v2a1</th>\n",
       "      <th>hacdor</th>\n",
       "      <th>rooms</th>\n",
       "      <th>hacapo</th>\n",
       "      <th>v14a</th>\n",
       "      <th>refrig</th>\n",
       "      <th>v18q</th>\n",
       "      <th>v18q1</th>\n",
       "      <th>r4h1</th>\n",
       "      <th>...</th>\n",
       "      <th>age</th>\n",
       "      <th>SQBescolari</th>\n",
       "      <th>SQBage</th>\n",
       "      <th>SQBhogar_total</th>\n",
       "      <th>SQBedjefe</th>\n",
       "      <th>SQBhogar_nin</th>\n",
       "      <th>SQBovercrowding</th>\n",
       "      <th>SQBdependency</th>\n",
       "      <th>SQBmeaned</th>\n",
       "      <th>agesq</th>\n",
       "    </tr>\n",
       "  </thead>\n",
       "  <tbody>\n",
       "    <tr>\n",
       "      <th>0</th>\n",
       "      <td>ID_2f6873615</td>\n",
       "      <td>NaN</td>\n",
       "      <td>0</td>\n",
       "      <td>5</td>\n",
       "      <td>0</td>\n",
       "      <td>1</td>\n",
       "      <td>1</td>\n",
       "      <td>0</td>\n",
       "      <td>NaN</td>\n",
       "      <td>1</td>\n",
       "      <td>...</td>\n",
       "      <td>4</td>\n",
       "      <td>0</td>\n",
       "      <td>16</td>\n",
       "      <td>9</td>\n",
       "      <td>0</td>\n",
       "      <td>1</td>\n",
       "      <td>2.25</td>\n",
       "      <td>0.25</td>\n",
       "      <td>272.25</td>\n",
       "      <td>16</td>\n",
       "    </tr>\n",
       "    <tr>\n",
       "      <th>1</th>\n",
       "      <td>ID_1c78846d2</td>\n",
       "      <td>NaN</td>\n",
       "      <td>0</td>\n",
       "      <td>5</td>\n",
       "      <td>0</td>\n",
       "      <td>1</td>\n",
       "      <td>1</td>\n",
       "      <td>0</td>\n",
       "      <td>NaN</td>\n",
       "      <td>1</td>\n",
       "      <td>...</td>\n",
       "      <td>41</td>\n",
       "      <td>256</td>\n",
       "      <td>1681</td>\n",
       "      <td>9</td>\n",
       "      <td>0</td>\n",
       "      <td>1</td>\n",
       "      <td>2.25</td>\n",
       "      <td>0.25</td>\n",
       "      <td>272.25</td>\n",
       "      <td>1681</td>\n",
       "    </tr>\n",
       "    <tr>\n",
       "      <th>2</th>\n",
       "      <td>ID_e5442cf6a</td>\n",
       "      <td>NaN</td>\n",
       "      <td>0</td>\n",
       "      <td>5</td>\n",
       "      <td>0</td>\n",
       "      <td>1</td>\n",
       "      <td>1</td>\n",
       "      <td>0</td>\n",
       "      <td>NaN</td>\n",
       "      <td>1</td>\n",
       "      <td>...</td>\n",
       "      <td>41</td>\n",
       "      <td>289</td>\n",
       "      <td>1681</td>\n",
       "      <td>9</td>\n",
       "      <td>0</td>\n",
       "      <td>1</td>\n",
       "      <td>2.25</td>\n",
       "      <td>0.25</td>\n",
       "      <td>272.25</td>\n",
       "      <td>1681</td>\n",
       "    </tr>\n",
       "    <tr>\n",
       "      <th>3</th>\n",
       "      <td>ID_a8db26a79</td>\n",
       "      <td>NaN</td>\n",
       "      <td>0</td>\n",
       "      <td>14</td>\n",
       "      <td>0</td>\n",
       "      <td>1</td>\n",
       "      <td>1</td>\n",
       "      <td>1</td>\n",
       "      <td>1.0</td>\n",
       "      <td>0</td>\n",
       "      <td>...</td>\n",
       "      <td>59</td>\n",
       "      <td>256</td>\n",
       "      <td>3481</td>\n",
       "      <td>1</td>\n",
       "      <td>256</td>\n",
       "      <td>0</td>\n",
       "      <td>1.00</td>\n",
       "      <td>0.00</td>\n",
       "      <td>256.00</td>\n",
       "      <td>3481</td>\n",
       "    </tr>\n",
       "    <tr>\n",
       "      <th>4</th>\n",
       "      <td>ID_a62966799</td>\n",
       "      <td>175000.0</td>\n",
       "      <td>0</td>\n",
       "      <td>4</td>\n",
       "      <td>0</td>\n",
       "      <td>1</td>\n",
       "      <td>1</td>\n",
       "      <td>1</td>\n",
       "      <td>1.0</td>\n",
       "      <td>0</td>\n",
       "      <td>...</td>\n",
       "      <td>18</td>\n",
       "      <td>121</td>\n",
       "      <td>324</td>\n",
       "      <td>1</td>\n",
       "      <td>0</td>\n",
       "      <td>1</td>\n",
       "      <td>0.25</td>\n",
       "      <td>64.00</td>\n",
       "      <td>NaN</td>\n",
       "      <td>324</td>\n",
       "    </tr>\n",
       "  </tbody>\n",
       "</table>\n",
       "<p>5 rows × 142 columns</p>\n",
       "</div>"
      ],
      "text/plain": [
       "             Id      v2a1  hacdor  rooms  hacapo  v14a  refrig  v18q  v18q1  \\\n",
       "0  ID_2f6873615       NaN       0      5       0     1       1     0    NaN   \n",
       "1  ID_1c78846d2       NaN       0      5       0     1       1     0    NaN   \n",
       "2  ID_e5442cf6a       NaN       0      5       0     1       1     0    NaN   \n",
       "3  ID_a8db26a79       NaN       0     14       0     1       1     1    1.0   \n",
       "4  ID_a62966799  175000.0       0      4       0     1       1     1    1.0   \n",
       "\n",
       "   r4h1  ...  age  SQBescolari  SQBage  SQBhogar_total  SQBedjefe  \\\n",
       "0     1  ...    4            0      16               9          0   \n",
       "1     1  ...   41          256    1681               9          0   \n",
       "2     1  ...   41          289    1681               9          0   \n",
       "3     0  ...   59          256    3481               1        256   \n",
       "4     0  ...   18          121     324               1          0   \n",
       "\n",
       "   SQBhogar_nin  SQBovercrowding  SQBdependency  SQBmeaned  agesq  \n",
       "0             1             2.25           0.25     272.25     16  \n",
       "1             1             2.25           0.25     272.25   1681  \n",
       "2             1             2.25           0.25     272.25   1681  \n",
       "3             0             1.00           0.00     256.00   3481  \n",
       "4             1             0.25          64.00        NaN    324  \n",
       "\n",
       "[5 rows x 142 columns]"
      ]
     },
     "execution_count": 4,
     "metadata": {},
     "output_type": "execute_result"
    }
   ],
   "source": [
    "test_data.head()"
   ]
  },
  {
   "cell_type": "code",
   "execution_count": 5,
   "id": "ed526c6b",
   "metadata": {},
   "outputs": [
    {
     "name": "stdout",
     "output_type": "stream",
     "text": [
      "int64      130\n",
      "float64      8\n",
      "object       5\n",
      "dtype: int64 Types of datatypes in train data\n",
      "int64      129\n",
      "float64      8\n",
      "object       5\n",
      "dtype: int64 Types of datatypes in test data\n"
     ]
    }
   ],
   "source": [
    "print(df.dtypes.value_counts(),'Types of datatypes in train data')\n",
    "print(test_data.dtypes.value_counts(),'Types of datatypes in test data')"
   ]
  },
  {
   "cell_type": "code",
   "execution_count": 6,
   "id": "86602d6b",
   "metadata": {},
   "outputs": [],
   "source": [
    "df_new=df.copy()"
   ]
  },
  {
   "cell_type": "code",
   "execution_count": 7,
   "id": "25d81ab8",
   "metadata": {},
   "outputs": [
    {
     "data": {
      "text/plain": [
       "Index(['v2a1', 'v18q1', 'rez_esc', 'meaneduc', 'SQBmeaned'], dtype='object')"
      ]
     },
     "execution_count": 7,
     "metadata": {},
     "output_type": "execute_result"
    }
   ],
   "source": [
    "## Check for null columns in train data\n",
    "null_columns=df.columns[df.isna().any()==True]\n",
    "null_columns"
   ]
  },
  {
   "cell_type": "code",
   "execution_count": 8,
   "id": "0659b395",
   "metadata": {},
   "outputs": [
    {
     "data": {
      "text/plain": [
       "Index(['v2a1', 'v18q1', 'rez_esc', 'meaneduc', 'SQBmeaned'], dtype='object')"
      ]
     },
     "execution_count": 8,
     "metadata": {},
     "output_type": "execute_result"
    }
   ],
   "source": [
    "## Check for null columns in test data\n",
    "null_columns_test=test_data.columns[test_data.isna().any()==True]\n",
    "null_columns_test"
   ]
  },
  {
   "cell_type": "code",
   "execution_count": 9,
   "id": "76e61eb7",
   "metadata": {},
   "outputs": [
    {
     "data": {
      "text/html": [
       "<div>\n",
       "<style scoped>\n",
       "    .dataframe tbody tr th:only-of-type {\n",
       "        vertical-align: middle;\n",
       "    }\n",
       "\n",
       "    .dataframe tbody tr th {\n",
       "        vertical-align: top;\n",
       "    }\n",
       "\n",
       "    .dataframe thead th {\n",
       "        text-align: right;\n",
       "    }\n",
       "</style>\n",
       "<table border=\"1\" class=\"dataframe\">\n",
       "  <thead>\n",
       "    <tr style=\"text-align: right;\">\n",
       "      <th></th>\n",
       "      <th>v2a1</th>\n",
       "      <th>v18q1</th>\n",
       "      <th>rez_esc</th>\n",
       "      <th>meaneduc</th>\n",
       "      <th>SQBmeaned</th>\n",
       "    </tr>\n",
       "  </thead>\n",
       "  <tbody>\n",
       "    <tr>\n",
       "      <th>0</th>\n",
       "      <td>190000.0</td>\n",
       "      <td>NaN</td>\n",
       "      <td>NaN</td>\n",
       "      <td>10.0</td>\n",
       "      <td>100.0</td>\n",
       "    </tr>\n",
       "    <tr>\n",
       "      <th>1</th>\n",
       "      <td>135000.0</td>\n",
       "      <td>1.0</td>\n",
       "      <td>NaN</td>\n",
       "      <td>12.0</td>\n",
       "      <td>144.0</td>\n",
       "    </tr>\n",
       "    <tr>\n",
       "      <th>2</th>\n",
       "      <td>NaN</td>\n",
       "      <td>NaN</td>\n",
       "      <td>NaN</td>\n",
       "      <td>11.0</td>\n",
       "      <td>121.0</td>\n",
       "    </tr>\n",
       "    <tr>\n",
       "      <th>3</th>\n",
       "      <td>180000.0</td>\n",
       "      <td>1.0</td>\n",
       "      <td>1.0</td>\n",
       "      <td>11.0</td>\n",
       "      <td>121.0</td>\n",
       "    </tr>\n",
       "    <tr>\n",
       "      <th>4</th>\n",
       "      <td>180000.0</td>\n",
       "      <td>1.0</td>\n",
       "      <td>NaN</td>\n",
       "      <td>11.0</td>\n",
       "      <td>121.0</td>\n",
       "    </tr>\n",
       "  </tbody>\n",
       "</table>\n",
       "</div>"
      ],
      "text/plain": [
       "       v2a1  v18q1  rez_esc  meaneduc  SQBmeaned\n",
       "0  190000.0    NaN      NaN      10.0      100.0\n",
       "1  135000.0    1.0      NaN      12.0      144.0\n",
       "2       NaN    NaN      NaN      11.0      121.0\n",
       "3  180000.0    1.0      1.0      11.0      121.0\n",
       "4  180000.0    1.0      NaN      11.0      121.0"
      ]
     },
     "execution_count": 9,
     "metadata": {},
     "output_type": "execute_result"
    }
   ],
   "source": [
    "df_new[null_columns].head()"
   ]
  },
  {
   "cell_type": "code",
   "execution_count": 10,
   "id": "1d06ebf9",
   "metadata": {},
   "outputs": [],
   "source": [
    "null_data=df_new[null_columns]"
   ]
  },
  {
   "cell_type": "code",
   "execution_count": 11,
   "id": "9392fdb8",
   "metadata": {},
   "outputs": [
    {
     "data": {
      "text/plain": [
       "v2a1         6860\n",
       "v18q1        7342\n",
       "rez_esc      7928\n",
       "meaneduc        5\n",
       "SQBmeaned       5\n",
       "dtype: int64"
      ]
     },
     "execution_count": 11,
     "metadata": {},
     "output_type": "execute_result"
    }
   ],
   "source": [
    "##Train dataset null columns value counts.\n",
    "(df_new[null_columns]).isnull().sum()"
   ]
  },
  {
   "cell_type": "markdown",
   "id": "a29079b5",
   "metadata": {},
   "source": [
    "## Let's check the null columns one by one and do some cleaning on them."
   ]
  },
  {
   "cell_type": "markdown",
   "id": "0737ffdf",
   "metadata": {},
   "source": [
    "###  1st --v2a1"
   ]
  },
  {
   "cell_type": "code",
   "execution_count": 12,
   "id": "ba80b651",
   "metadata": {},
   "outputs": [
    {
     "data": {
      "text/plain": [
       "True     6860\n",
       "False    2697\n",
       "Name: v2a1, dtype: int64"
      ]
     },
     "execution_count": 12,
     "metadata": {},
     "output_type": "execute_result"
    }
   ],
   "source": [
    "## 6860 null values for rent payment column\n",
    "df_new.v2a1.isna().value_counts()"
   ]
  },
  {
   "cell_type": "code",
   "execution_count": 13,
   "id": "004bf03a",
   "metadata": {},
   "outputs": [
    {
     "data": {
      "text/plain": [
       "True     17403\n",
       "False     6453\n",
       "Name: v2a1, dtype: int64"
      ]
     },
     "execution_count": 13,
     "metadata": {},
     "output_type": "execute_result"
    }
   ],
   "source": [
    "## Check null values in test_data v2a1 column.\n",
    "test_data.v2a1.isna().value_counts()"
   ]
  },
  {
   "cell_type": "code",
   "execution_count": 14,
   "id": "3b1a79ba",
   "metadata": {},
   "outputs": [
    {
     "name": "stdout",
     "output_type": "stream",
     "text": [
      "1736 are rented houses.\n",
      "961 are rented houses with installment payments.\n"
     ]
    }
   ],
   "source": [
    "# rented houses \n",
    "print(df_new['tipovivi3'].sum(),'are rented houses.')\n",
    "# rent payment in installment\n",
    "print(df_new['tipovivi2'].sum(),'are rented houses with installment payments.')"
   ]
  },
  {
   "cell_type": "code",
   "execution_count": 15,
   "id": "8eeecf60",
   "metadata": {},
   "outputs": [
    {
     "name": "stdout",
     "output_type": "stream",
     "text": [
      "Sum of non-rented houses:-\n"
     ]
    },
    {
     "data": {
      "text/plain": [
       "6860"
      ]
     },
     "execution_count": 15,
     "metadata": {},
     "output_type": "execute_result"
    }
   ],
   "source": [
    "#tipovivi1 -ownn house\n",
    "#tipovivi4-precarious houses\n",
    "#tipovivi5- borrowed\n",
    "# take look on sum of above houses\n",
    "print('Sum of non-rented houses:-')\n",
    "df_new['tipovivi1'].sum()+df_new['tipovivi4'].sum()+df_new['tipovivi5'].sum()\n"
   ]
  },
  {
   "cell_type": "markdown",
   "id": "36e3b0c6",
   "metadata": {},
   "source": [
    "#### Hence v2a1 value is 0 when house is non-rented ,Now update null values with 0 in both train and test data."
   ]
  },
  {
   "cell_type": "code",
   "execution_count": 16,
   "id": "c8480d39",
   "metadata": {},
   "outputs": [],
   "source": [
    "df_new['v2a1'].fillna(0,inplace=True)\n",
    "test_data['v2a1'].fillna(0,inplace=True)\n"
   ]
  },
  {
   "cell_type": "code",
   "execution_count": 17,
   "id": "63d34c2b",
   "metadata": {},
   "outputs": [
    {
     "data": {
      "text/plain": [
       "False"
      ]
     },
     "execution_count": 17,
     "metadata": {},
     "output_type": "execute_result"
    }
   ],
   "source": [
    "df_new['v2a1'].isna().any()"
   ]
  },
  {
   "cell_type": "code",
   "execution_count": 18,
   "id": "a82687f6",
   "metadata": {},
   "outputs": [
    {
     "data": {
      "text/plain": [
       "False"
      ]
     },
     "execution_count": 18,
     "metadata": {},
     "output_type": "execute_result"
    }
   ],
   "source": [
    "test_data['v2a1'].isna().any()"
   ]
  },
  {
   "cell_type": "markdown",
   "id": "9e11795d",
   "metadata": {},
   "source": [
    "### 2nd v18q column."
   ]
  },
  {
   "cell_type": "code",
   "execution_count": 19,
   "id": "f97a73be",
   "metadata": {},
   "outputs": [
    {
     "data": {
      "text/plain": [
       "True     7342\n",
       "False    2215\n",
       "Name: v18q1, dtype: int64"
      ]
     },
     "execution_count": 19,
     "metadata": {},
     "output_type": "execute_result"
    }
   ],
   "source": [
    "df_new['v18q1'].isna().value_counts()\n",
    "## 7342 null values"
   ]
  },
  {
   "cell_type": "code",
   "execution_count": 20,
   "id": "a52d18d8",
   "metadata": {},
   "outputs": [
    {
     "name": "stdout",
     "output_type": "stream",
     "text": [
      "0    7342\n",
      "1    2215\n",
      "Name: v18q, dtype: int64 v18q\n",
      "1.0    1586\n",
      "2.0     444\n",
      "3.0     129\n",
      "4.0      37\n",
      "5.0      13\n",
      "6.0       6\n",
      "Name: v18q1, dtype: int64 v18q1\n"
     ]
    }
   ],
   "source": [
    "#v18q represent whether family has tablet or not\n",
    "#v18q1 represent number of tablets in family\n",
    "print(df.v18q.value_counts(),'v18q')\n",
    "print(df.v18q1.value_counts(),'v18q1')"
   ]
  },
  {
   "cell_type": "code",
   "execution_count": 25,
   "id": "2c8b15cf",
   "metadata": {},
   "outputs": [
    {
     "name": "stdout",
     "output_type": "stream",
     "text": [
      "Sum of household having 1 or more tablet:-\n"
     ]
    },
    {
     "data": {
      "text/plain": [
       "2215"
      ]
     },
     "execution_count": 25,
     "metadata": {},
     "output_type": "execute_result"
    }
   ],
   "source": [
    "print('Sum of household having 1 or more tablet:-')\n",
    "df_new[df_new['v18q']>0]['v18q1'].count()"
   ]
  },
  {
   "cell_type": "markdown",
   "id": "156963ac",
   "metadata": {},
   "source": [
    "#### From comparing data of v18q and v18q1 , it is shown that null values in v18q1 represent 0 no. of tablet in the family."
   ]
  },
  {
   "cell_type": "code",
   "execution_count": 26,
   "id": "7b291225",
   "metadata": {},
   "outputs": [],
   "source": [
    "## Update null values in v18q1 columns with zero.\n",
    "df_new.v18q1.fillna(0,inplace=True)\n",
    "test_data.v18q1.fillna(0,inplace=True)"
   ]
  },
  {
   "cell_type": "markdown",
   "id": "42261a33",
   "metadata": {},
   "source": [
    "### 3rd- (rez_esc)-years behind in school "
   ]
  },
  {
   "cell_type": "code",
   "execution_count": 27,
   "id": "cb50bb68",
   "metadata": {},
   "outputs": [
    {
     "data": {
      "text/plain": [
       "True     7928\n",
       "False    1629\n",
       "Name: rez_esc, dtype: int64"
      ]
     },
     "execution_count": 27,
     "metadata": {},
     "output_type": "execute_result"
    }
   ],
   "source": [
    "df_new.rez_esc.isna().value_counts()\n",
    "## 7928 null values."
   ]
  },
  {
   "cell_type": "code",
   "execution_count": 28,
   "id": "ac3ac78e",
   "metadata": {},
   "outputs": [],
   "source": [
    "## Let's look on age distribution for non-null values of rez_esc."
   ]
  },
  {
   "cell_type": "code",
   "execution_count": 31,
   "id": "500e9e64",
   "metadata": {},
   "outputs": [
    {
     "data": {
      "text/plain": [
       "count    1629.000000\n",
       "mean       12.258441\n",
       "std         3.218325\n",
       "min         7.000000\n",
       "25%         9.000000\n",
       "50%        12.000000\n",
       "75%        15.000000\n",
       "max        17.000000\n",
       "Name: age, dtype: float64"
      ]
     },
     "execution_count": 31,
     "metadata": {},
     "output_type": "execute_result"
    }
   ],
   "source": [
    "df_new[df_new['rez_esc'].isnull()==False]['age'].describe()\n",
    "## Hence student from age start from 7 to 17 are in schools. \n",
    "## Remaining are adults that's why not considering in the school."
   ]
  },
  {
   "cell_type": "code",
   "execution_count": 32,
   "id": "fca7675f",
   "metadata": {},
   "outputs": [],
   "source": [
    "## Let's look on  null value for people from age 7 to 17."
   ]
  },
  {
   "cell_type": "code",
   "execution_count": 33,
   "id": "ca6d67a7",
   "metadata": {},
   "outputs": [
    {
     "data": {
      "text/html": [
       "<div>\n",
       "<style scoped>\n",
       "    .dataframe tbody tr th:only-of-type {\n",
       "        vertical-align: middle;\n",
       "    }\n",
       "\n",
       "    .dataframe tbody tr th {\n",
       "        vertical-align: top;\n",
       "    }\n",
       "\n",
       "    .dataframe thead th {\n",
       "        text-align: right;\n",
       "    }\n",
       "</style>\n",
       "<table border=\"1\" class=\"dataframe\">\n",
       "  <thead>\n",
       "    <tr style=\"text-align: right;\">\n",
       "      <th></th>\n",
       "      <th>rez_esc</th>\n",
       "      <th>age</th>\n",
       "      <th>escolari</th>\n",
       "    </tr>\n",
       "  </thead>\n",
       "  <tbody>\n",
       "    <tr>\n",
       "      <th>2514</th>\n",
       "      <td>NaN</td>\n",
       "      <td>10</td>\n",
       "      <td>0</td>\n",
       "    </tr>\n",
       "  </tbody>\n",
       "</table>\n",
       "</div>"
      ],
      "text/plain": [
       "      rez_esc  age  escolari\n",
       "2514      NaN   10         0"
      ]
     },
     "execution_count": 33,
     "metadata": {},
     "output_type": "execute_result"
    }
   ],
   "source": [
    "school_period=df_new[(df_new['age']>=7) & (df_new['age']<=17)]\n",
    "school_period[school_period.rez_esc.isnull()==True][['rez_esc','age','escolari']]\n",
    "## There is only one student who is in school and having null value of rez_esc"
   ]
  },
  {
   "cell_type": "code",
   "execution_count": 34,
   "id": "8ac41ebb",
   "metadata": {},
   "outputs": [
    {
     "data": {
      "text/plain": [
       "0.0    116\n",
       "1.0     20\n",
       "3.0      1\n",
       "Name: rez_esc, dtype: int64"
      ]
     },
     "execution_count": 34,
     "metadata": {},
     "output_type": "execute_result"
    }
   ],
   "source": [
    "df_new[df_new['age']==10]['rez_esc'].value_counts()"
   ]
  },
  {
   "cell_type": "code",
   "execution_count": 35,
   "id": "a5fd7ce4",
   "metadata": {},
   "outputs": [
    {
     "data": {
      "text/plain": [
       "3    69\n",
       "4    47\n",
       "2    20\n",
       "0     2\n",
       "Name: escolari, dtype: int64"
      ]
     },
     "execution_count": 35,
     "metadata": {},
     "output_type": "execute_result"
    }
   ],
   "source": [
    "## No. of years of Schooling.\n",
    "df_new[df_new['age']==10]['escolari'].value_counts()"
   ]
  },
  {
   "cell_type": "code",
   "execution_count": 36,
   "id": "e1d246c3",
   "metadata": {},
   "outputs": [
    {
     "data": {
      "text/plain": [
       "'\"\\nFrom above data extraction it is clear that when age is 10,\\nyear of schooling are 0 then\\nyears behind in school is 3 from data comparison.\\n'"
      ]
     },
     "execution_count": 36,
     "metadata": {},
     "output_type": "execute_result"
    }
   ],
   "source": [
    "\"\"\"\"\n",
    "From above data extraction it is clear that when age is 10,\n",
    "year of schooling are 0 then\n",
    "years behind in school is 3 from data comparison.\n",
    "\"\"\""
   ]
  },
  {
   "cell_type": "code",
   "execution_count": 37,
   "id": "5b138d7a",
   "metadata": {},
   "outputs": [
    {
     "data": {
      "text/plain": [
       "3.0"
      ]
     },
     "execution_count": 37,
     "metadata": {},
     "output_type": "execute_result"
    }
   ],
   "source": [
    "## update that single null value\n",
    "df_new.loc[2514,'rez_esc']=3.0\n",
    "## check update\n",
    "df_new.loc[2514,'rez_esc']"
   ]
  },
  {
   "cell_type": "code",
   "execution_count": 38,
   "id": "cb107f13",
   "metadata": {},
   "outputs": [],
   "source": [
    "## Other age peoples values fill with zero as they are not in schools.\n",
    "## Update there \"years behind in school\" with zero.\n",
    "df_new.rez_esc.fillna(0,inplace=True)"
   ]
  },
  {
   "cell_type": "code",
   "execution_count": 39,
   "id": "b4eec871",
   "metadata": {},
   "outputs": [
    {
     "data": {
      "text/plain": [
       "0"
      ]
     },
     "execution_count": 39,
     "metadata": {},
     "output_type": "execute_result"
    }
   ],
   "source": [
    "## check updation done or not\n",
    "df_new.rez_esc.isnull().sum()"
   ]
  },
  {
   "cell_type": "code",
   "execution_count": 40,
   "id": "2179669d",
   "metadata": {},
   "outputs": [
    {
     "data": {
      "text/html": [
       "<div>\n",
       "<style scoped>\n",
       "    .dataframe tbody tr th:only-of-type {\n",
       "        vertical-align: middle;\n",
       "    }\n",
       "\n",
       "    .dataframe tbody tr th {\n",
       "        vertical-align: top;\n",
       "    }\n",
       "\n",
       "    .dataframe thead th {\n",
       "        text-align: right;\n",
       "    }\n",
       "</style>\n",
       "<table border=\"1\" class=\"dataframe\">\n",
       "  <thead>\n",
       "    <tr style=\"text-align: right;\">\n",
       "      <th></th>\n",
       "      <th>rez_esc</th>\n",
       "      <th>escolari</th>\n",
       "      <th>age</th>\n",
       "    </tr>\n",
       "  </thead>\n",
       "  <tbody>\n",
       "    <tr>\n",
       "      <th>1520</th>\n",
       "      <td>NaN</td>\n",
       "      <td>0</td>\n",
       "      <td>10</td>\n",
       "    </tr>\n",
       "    <tr>\n",
       "      <th>5871</th>\n",
       "      <td>NaN</td>\n",
       "      <td>0</td>\n",
       "      <td>7</td>\n",
       "    </tr>\n",
       "    <tr>\n",
       "      <th>11869</th>\n",
       "      <td>NaN</td>\n",
       "      <td>0</td>\n",
       "      <td>15</td>\n",
       "    </tr>\n",
       "    <tr>\n",
       "      <th>13450</th>\n",
       "      <td>NaN</td>\n",
       "      <td>0</td>\n",
       "      <td>9</td>\n",
       "    </tr>\n",
       "  </tbody>\n",
       "</table>\n",
       "</div>"
      ],
      "text/plain": [
       "       rez_esc  escolari  age\n",
       "1520       NaN         0   10\n",
       "5871       NaN         0    7\n",
       "11869      NaN         0   15\n",
       "13450      NaN         0    9"
      ]
     },
     "execution_count": 40,
     "metadata": {},
     "output_type": "execute_result"
    }
   ],
   "source": [
    "test_null_rez=test_data[(test_data['age']>6)&(test_data['age']<18)]\n",
    "test_null_rez[test_null_rez.rez_esc.isnull()==True][['rez_esc','escolari','age']]"
   ]
  },
  {
   "cell_type": "code",
   "execution_count": 41,
   "id": "8ba6a61c",
   "metadata": {},
   "outputs": [],
   "source": [
    "def convert(x):\n",
    "    rez=x[0]\n",
    "    esc=x[1]\n",
    "    age=x[2]\n",
    "    if pd.isna(rez)==True:\n",
    "        if (age>=7)&(age<=17):\n",
    "            if esc==0:\n",
    "                return age-7;\n",
    "            else:\n",
    "                rez=age-esc-7\n",
    "                return rez;\n",
    "        else :\n",
    "            return 0;\n",
    "    else :\n",
    "        return rez;\n",
    "\n",
    "    \n",
    "            "
   ]
  },
  {
   "cell_type": "code",
   "execution_count": 42,
   "id": "3a0e325b",
   "metadata": {},
   "outputs": [],
   "source": [
    "test_data.rez_esc=test_data[['rez_esc','escolari','age']].apply(convert,axis=1)"
   ]
  },
  {
   "cell_type": "code",
   "execution_count": 43,
   "id": "f7471c8b",
   "metadata": {},
   "outputs": [
    {
     "data": {
      "text/plain": [
       "False"
      ]
     },
     "execution_count": 43,
     "metadata": {},
     "output_type": "execute_result"
    }
   ],
   "source": [
    "##Check whether test data update successfully\n",
    "test_data.rez_esc.isna().any()"
   ]
  },
  {
   "cell_type": "code",
   "execution_count": 44,
   "id": "95854611",
   "metadata": {},
   "outputs": [
    {
     "data": {
      "text/plain": [
       "1520     3.0\n",
       "5871     0.0\n",
       "11869    8.0\n",
       "13450    2.0\n",
       "Name: rez_esc, dtype: float64"
      ]
     },
     "execution_count": 44,
     "metadata": {},
     "output_type": "execute_result"
    }
   ],
   "source": [
    "test_data.loc[[1520,5871,11869,13450],'rez_esc']\n",
    "## Hence test data updated successfully."
   ]
  },
  {
   "cell_type": "markdown",
   "id": "26f7fced",
   "metadata": {},
   "source": [
    "### 4th,5th- meaneduc(avg year of eduaction for 18+),SQB"
   ]
  },
  {
   "cell_type": "code",
   "execution_count": 45,
   "id": "8ecf1a7c",
   "metadata": {},
   "outputs": [
    {
     "data": {
      "text/plain": [
       "False    9552\n",
       "True        5\n",
       "Name: meaneduc, dtype: int64"
      ]
     },
     "execution_count": 45,
     "metadata": {},
     "output_type": "execute_result"
    }
   ],
   "source": [
    "df_new.meaneduc.isna().value_counts()"
   ]
  },
  {
   "cell_type": "code",
   "execution_count": 46,
   "id": "ba855c8a",
   "metadata": {},
   "outputs": [
    {
     "data": {
      "text/plain": [
       "False    23825\n",
       "True        31\n",
       "Name: meaneduc, dtype: int64"
      ]
     },
     "execution_count": 46,
     "metadata": {},
     "output_type": "execute_result"
    }
   ],
   "source": [
    "test_data.meaneduc.isna().value_counts()"
   ]
  },
  {
   "cell_type": "code",
   "execution_count": 47,
   "id": "cac603d9",
   "metadata": {},
   "outputs": [
    {
     "data": {
      "text/html": [
       "<div>\n",
       "<style scoped>\n",
       "    .dataframe tbody tr th:only-of-type {\n",
       "        vertical-align: middle;\n",
       "    }\n",
       "\n",
       "    .dataframe tbody tr th {\n",
       "        vertical-align: top;\n",
       "    }\n",
       "\n",
       "    .dataframe thead th {\n",
       "        text-align: right;\n",
       "    }\n",
       "</style>\n",
       "<table border=\"1\" class=\"dataframe\">\n",
       "  <thead>\n",
       "    <tr style=\"text-align: right;\">\n",
       "      <th></th>\n",
       "      <th>age</th>\n",
       "      <th>escolari</th>\n",
       "      <th>rez_esc</th>\n",
       "      <th>meaneduc</th>\n",
       "      <th>SQBmeaned</th>\n",
       "    </tr>\n",
       "  </thead>\n",
       "  <tbody>\n",
       "    <tr>\n",
       "      <th>1291</th>\n",
       "      <td>18</td>\n",
       "      <td>10</td>\n",
       "      <td>0.0</td>\n",
       "      <td>NaN</td>\n",
       "      <td>NaN</td>\n",
       "    </tr>\n",
       "    <tr>\n",
       "      <th>1840</th>\n",
       "      <td>18</td>\n",
       "      <td>6</td>\n",
       "      <td>0.0</td>\n",
       "      <td>NaN</td>\n",
       "      <td>NaN</td>\n",
       "    </tr>\n",
       "    <tr>\n",
       "      <th>1841</th>\n",
       "      <td>18</td>\n",
       "      <td>4</td>\n",
       "      <td>0.0</td>\n",
       "      <td>NaN</td>\n",
       "      <td>NaN</td>\n",
       "    </tr>\n",
       "    <tr>\n",
       "      <th>2049</th>\n",
       "      <td>19</td>\n",
       "      <td>12</td>\n",
       "      <td>0.0</td>\n",
       "      <td>NaN</td>\n",
       "      <td>NaN</td>\n",
       "    </tr>\n",
       "    <tr>\n",
       "      <th>2050</th>\n",
       "      <td>19</td>\n",
       "      <td>12</td>\n",
       "      <td>0.0</td>\n",
       "      <td>NaN</td>\n",
       "      <td>NaN</td>\n",
       "    </tr>\n",
       "  </tbody>\n",
       "</table>\n",
       "</div>"
      ],
      "text/plain": [
       "      age  escolari  rez_esc  meaneduc  SQBmeaned\n",
       "1291   18        10      0.0       NaN        NaN\n",
       "1840   18         6      0.0       NaN        NaN\n",
       "1841   18         4      0.0       NaN        NaN\n",
       "2049   19        12      0.0       NaN        NaN\n",
       "2050   19        12      0.0       NaN        NaN"
      ]
     },
     "execution_count": 47,
     "metadata": {},
     "output_type": "execute_result"
    }
   ],
   "source": [
    "df_new[df_new.meaneduc.isna()==True][['age','escolari','rez_esc','meaneduc','SQBmeaned']]"
   ]
  },
  {
   "cell_type": "code",
   "execution_count": 48,
   "id": "172079a1",
   "metadata": {},
   "outputs": [
    {
     "data": {
      "text/html": [
       "<div>\n",
       "<style scoped>\n",
       "    .dataframe tbody tr th:only-of-type {\n",
       "        vertical-align: middle;\n",
       "    }\n",
       "\n",
       "    .dataframe tbody tr th {\n",
       "        vertical-align: top;\n",
       "    }\n",
       "\n",
       "    .dataframe thead th {\n",
       "        text-align: right;\n",
       "    }\n",
       "</style>\n",
       "<table border=\"1\" class=\"dataframe\">\n",
       "  <thead>\n",
       "    <tr style=\"text-align: right;\">\n",
       "      <th></th>\n",
       "      <th>age</th>\n",
       "      <th>escolari</th>\n",
       "      <th>rez_esc</th>\n",
       "      <th>meaneduc</th>\n",
       "      <th>SQBmeaned</th>\n",
       "    </tr>\n",
       "  </thead>\n",
       "  <tbody>\n",
       "    <tr>\n",
       "      <th>801</th>\n",
       "      <td>18</td>\n",
       "      <td>10</td>\n",
       "      <td>0.0</td>\n",
       "      <td>21.0</td>\n",
       "      <td>441.00</td>\n",
       "    </tr>\n",
       "    <tr>\n",
       "      <th>1291</th>\n",
       "      <td>18</td>\n",
       "      <td>10</td>\n",
       "      <td>0.0</td>\n",
       "      <td>NaN</td>\n",
       "      <td>NaN</td>\n",
       "    </tr>\n",
       "    <tr>\n",
       "      <th>1307</th>\n",
       "      <td>18</td>\n",
       "      <td>10</td>\n",
       "      <td>0.0</td>\n",
       "      <td>20.5</td>\n",
       "      <td>420.25</td>\n",
       "    </tr>\n",
       "    <tr>\n",
       "      <th>1394</th>\n",
       "      <td>18</td>\n",
       "      <td>10</td>\n",
       "      <td>0.0</td>\n",
       "      <td>16.0</td>\n",
       "      <td>256.00</td>\n",
       "    </tr>\n",
       "    <tr>\n",
       "      <th>1429</th>\n",
       "      <td>18</td>\n",
       "      <td>10</td>\n",
       "      <td>0.0</td>\n",
       "      <td>19.0</td>\n",
       "      <td>361.00</td>\n",
       "    </tr>\n",
       "  </tbody>\n",
       "</table>\n",
       "</div>"
      ],
      "text/plain": [
       "      age  escolari  rez_esc  meaneduc  SQBmeaned\n",
       "801    18        10      0.0      21.0     441.00\n",
       "1291   18        10      0.0       NaN        NaN\n",
       "1307   18        10      0.0      20.5     420.25\n",
       "1394   18        10      0.0      16.0     256.00\n",
       "1429   18        10      0.0      19.0     361.00"
      ]
     },
     "execution_count": 48,
     "metadata": {},
     "output_type": "execute_result"
    }
   ],
   "source": [
    "df_new[(df_new['age']==18)&(df_new['escolari']==10)][['age','escolari','rez_esc','meaneduc','SQBmeaned']].head()\n",
    "# no relation"
   ]
  },
  {
   "cell_type": "code",
   "execution_count": 49,
   "id": "0cd91589",
   "metadata": {},
   "outputs": [
    {
     "data": {
      "text/html": [
       "<div>\n",
       "<style scoped>\n",
       "    .dataframe tbody tr th:only-of-type {\n",
       "        vertical-align: middle;\n",
       "    }\n",
       "\n",
       "    .dataframe tbody tr th {\n",
       "        vertical-align: top;\n",
       "    }\n",
       "\n",
       "    .dataframe thead th {\n",
       "        text-align: right;\n",
       "    }\n",
       "</style>\n",
       "<table border=\"1\" class=\"dataframe\">\n",
       "  <thead>\n",
       "    <tr style=\"text-align: right;\">\n",
       "      <th></th>\n",
       "      <th>edjefe</th>\n",
       "      <th>edjefa</th>\n",
       "      <th>meaneduc</th>\n",
       "      <th>instlevel1</th>\n",
       "      <th>instlevel2</th>\n",
       "      <th>escolari</th>\n",
       "    </tr>\n",
       "  </thead>\n",
       "  <tbody>\n",
       "    <tr>\n",
       "      <th>1291</th>\n",
       "      <td>no</td>\n",
       "      <td>10</td>\n",
       "      <td>NaN</td>\n",
       "      <td>0</td>\n",
       "      <td>0</td>\n",
       "      <td>10</td>\n",
       "    </tr>\n",
       "    <tr>\n",
       "      <th>1840</th>\n",
       "      <td>4</td>\n",
       "      <td>no</td>\n",
       "      <td>NaN</td>\n",
       "      <td>0</td>\n",
       "      <td>0</td>\n",
       "      <td>6</td>\n",
       "    </tr>\n",
       "    <tr>\n",
       "      <th>1841</th>\n",
       "      <td>4</td>\n",
       "      <td>no</td>\n",
       "      <td>NaN</td>\n",
       "      <td>0</td>\n",
       "      <td>1</td>\n",
       "      <td>4</td>\n",
       "    </tr>\n",
       "    <tr>\n",
       "      <th>2049</th>\n",
       "      <td>12</td>\n",
       "      <td>no</td>\n",
       "      <td>NaN</td>\n",
       "      <td>0</td>\n",
       "      <td>0</td>\n",
       "      <td>12</td>\n",
       "    </tr>\n",
       "    <tr>\n",
       "      <th>2050</th>\n",
       "      <td>12</td>\n",
       "      <td>no</td>\n",
       "      <td>NaN</td>\n",
       "      <td>0</td>\n",
       "      <td>0</td>\n",
       "      <td>12</td>\n",
       "    </tr>\n",
       "  </tbody>\n",
       "</table>\n",
       "</div>"
      ],
      "text/plain": [
       "     edjefe edjefa  meaneduc  instlevel1  instlevel2  escolari\n",
       "1291     no     10       NaN           0           0        10\n",
       "1840      4     no       NaN           0           0         6\n",
       "1841      4     no       NaN           0           1         4\n",
       "2049     12     no       NaN           0           0        12\n",
       "2050     12     no       NaN           0           0        12"
      ]
     },
     "execution_count": 49,
     "metadata": {},
     "output_type": "execute_result"
    }
   ],
   "source": [
    "df_new[df_new.meaneduc.isnull()==True][['edjefe','edjefa','meaneduc','instlevel1','instlevel2','escolari']]\n"
   ]
  },
  {
   "cell_type": "code",
   "execution_count": 50,
   "id": "79efd8bd",
   "metadata": {},
   "outputs": [],
   "source": [
    "## Here we find no relation  so we drop the null values row here."
   ]
  },
  {
   "cell_type": "code",
   "execution_count": 51,
   "id": "8e8b2ba9",
   "metadata": {},
   "outputs": [],
   "source": [
    "df_new.dropna(inplace=True)"
   ]
  },
  {
   "cell_type": "code",
   "execution_count": 52,
   "id": "430703a3",
   "metadata": {},
   "outputs": [
    {
     "data": {
      "text/plain": [
       "(9552, 143)"
      ]
     },
     "execution_count": 52,
     "metadata": {},
     "output_type": "execute_result"
    }
   ],
   "source": [
    "df_new.shape"
   ]
  },
  {
   "cell_type": "code",
   "execution_count": 53,
   "id": "bb95bc7b",
   "metadata": {},
   "outputs": [],
   "source": [
    "test_data.dropna(inplace=True)"
   ]
  },
  {
   "cell_type": "markdown",
   "id": "e65b34dd",
   "metadata": {},
   "source": [
    "## Check whether data is biased or not ?"
   ]
  },
  {
   "cell_type": "code",
   "execution_count": 58,
   "id": "ef72e2d5",
   "metadata": {},
   "outputs": [
    {
     "data": {
      "text/plain": [
       "[5991, 1597, 1209, 755]"
      ]
     },
     "execution_count": 58,
     "metadata": {},
     "output_type": "execute_result"
    }
   ],
   "source": [
    "count_poverty=list(df_new.Target.value_counts())\n",
    "count_poverty"
   ]
  },
  {
   "cell_type": "code",
   "execution_count": 59,
   "id": "a53bd6da",
   "metadata": {},
   "outputs": [
    {
     "data": {
      "text/plain": [
       "[4, 2, 3, 1]"
      ]
     },
     "execution_count": 59,
     "metadata": {},
     "output_type": "execute_result"
    }
   ],
   "source": [
    "level_of_need=list(df_new.Target.unique())\n",
    "level_of_need"
   ]
  },
  {
   "cell_type": "code",
   "execution_count": 60,
   "id": "d5fc1c9a",
   "metadata": {},
   "outputs": [
    {
     "data": {
      "text/plain": [
       "<AxesSubplot:xlabel='Level of Need', ylabel='count of families'>"
      ]
     },
     "execution_count": 60,
     "metadata": {},
     "output_type": "execute_result"
    },
    {
     "data": {
      "image/png": "[encoded data removed]",
      "text/plain": [
       "<Figure size 720x432 with 1 Axes>"
      ]
     },
     "metadata": {
      "needs_background": "light"
     },
     "output_type": "display_data"
    }
   ],
   "source": [
    "plt.figure(figsize=(10,6))\n",
    "plt.xlabel('Level of Need')\n",
    "plt.ylabel('count of families')\n",
    "sns.barplot(x=level_of_need,y=count_poverty)"
   ]
  },
  {
   "cell_type": "markdown",
   "id": "79c87565",
   "metadata": {},
   "source": [
    "## From the graph it clearly shown that data is biased as no. of families with more need is less as,target 1 represent extreme poor families."
   ]
  },
  {
   "cell_type": "markdown",
   "id": "e490bc9c",
   "metadata": {},
   "source": [
    "## Object dtypes columns"
   ]
  },
  {
   "cell_type": "code",
   "execution_count": 61,
   "id": "ea8ff651",
   "metadata": {},
   "outputs": [],
   "source": [
    "object_col=df_new.columns[df_new.dtypes=='object']"
   ]
  },
  {
   "cell_type": "code",
   "execution_count": 62,
   "id": "1a422f0b",
   "metadata": {},
   "outputs": [
    {
     "data": {
      "text/html": [
       "<div>\n",
       "<style scoped>\n",
       "    .dataframe tbody tr th:only-of-type {\n",
       "        vertical-align: middle;\n",
       "    }\n",
       "\n",
       "    .dataframe tbody tr th {\n",
       "        vertical-align: top;\n",
       "    }\n",
       "\n",
       "    .dataframe thead th {\n",
       "        text-align: right;\n",
       "    }\n",
       "</style>\n",
       "<table border=\"1\" class=\"dataframe\">\n",
       "  <thead>\n",
       "    <tr style=\"text-align: right;\">\n",
       "      <th></th>\n",
       "      <th>Id</th>\n",
       "      <th>idhogar</th>\n",
       "      <th>dependency</th>\n",
       "      <th>edjefe</th>\n",
       "      <th>edjefa</th>\n",
       "    </tr>\n",
       "  </thead>\n",
       "  <tbody>\n",
       "    <tr>\n",
       "      <th>0</th>\n",
       "      <td>ID_279628684</td>\n",
       "      <td>21eb7fcc1</td>\n",
       "      <td>no</td>\n",
       "      <td>10</td>\n",
       "      <td>no</td>\n",
       "    </tr>\n",
       "    <tr>\n",
       "      <th>1</th>\n",
       "      <td>ID_f29eb3ddd</td>\n",
       "      <td>0e5d7a658</td>\n",
       "      <td>8</td>\n",
       "      <td>12</td>\n",
       "      <td>no</td>\n",
       "    </tr>\n",
       "    <tr>\n",
       "      <th>2</th>\n",
       "      <td>ID_68de51c94</td>\n",
       "      <td>2c7317ea8</td>\n",
       "      <td>8</td>\n",
       "      <td>no</td>\n",
       "      <td>11</td>\n",
       "    </tr>\n",
       "    <tr>\n",
       "      <th>3</th>\n",
       "      <td>ID_d671db89c</td>\n",
       "      <td>2b58d945f</td>\n",
       "      <td>yes</td>\n",
       "      <td>11</td>\n",
       "      <td>no</td>\n",
       "    </tr>\n",
       "    <tr>\n",
       "      <th>4</th>\n",
       "      <td>ID_d56d6f5f5</td>\n",
       "      <td>2b58d945f</td>\n",
       "      <td>yes</td>\n",
       "      <td>11</td>\n",
       "      <td>no</td>\n",
       "    </tr>\n",
       "    <tr>\n",
       "      <th>...</th>\n",
       "      <td>...</td>\n",
       "      <td>...</td>\n",
       "      <td>...</td>\n",
       "      <td>...</td>\n",
       "      <td>...</td>\n",
       "    </tr>\n",
       "    <tr>\n",
       "      <th>9552</th>\n",
       "      <td>ID_d45ae367d</td>\n",
       "      <td>d6c086aa3</td>\n",
       "      <td>.25</td>\n",
       "      <td>9</td>\n",
       "      <td>no</td>\n",
       "    </tr>\n",
       "    <tr>\n",
       "      <th>9553</th>\n",
       "      <td>ID_c94744e07</td>\n",
       "      <td>d6c086aa3</td>\n",
       "      <td>.25</td>\n",
       "      <td>9</td>\n",
       "      <td>no</td>\n",
       "    </tr>\n",
       "    <tr>\n",
       "      <th>9554</th>\n",
       "      <td>ID_85fc658f8</td>\n",
       "      <td>d6c086aa3</td>\n",
       "      <td>.25</td>\n",
       "      <td>9</td>\n",
       "      <td>no</td>\n",
       "    </tr>\n",
       "    <tr>\n",
       "      <th>9555</th>\n",
       "      <td>ID_ced540c61</td>\n",
       "      <td>d6c086aa3</td>\n",
       "      <td>.25</td>\n",
       "      <td>9</td>\n",
       "      <td>no</td>\n",
       "    </tr>\n",
       "    <tr>\n",
       "      <th>9556</th>\n",
       "      <td>ID_a38c64491</td>\n",
       "      <td>d6c086aa3</td>\n",
       "      <td>.25</td>\n",
       "      <td>9</td>\n",
       "      <td>no</td>\n",
       "    </tr>\n",
       "  </tbody>\n",
       "</table>\n",
       "<p>9552 rows × 5 columns</p>\n",
       "</div>"
      ],
      "text/plain": [
       "                Id    idhogar dependency edjefe edjefa\n",
       "0     ID_279628684  21eb7fcc1         no     10     no\n",
       "1     ID_f29eb3ddd  0e5d7a658          8     12     no\n",
       "2     ID_68de51c94  2c7317ea8          8     no     11\n",
       "3     ID_d671db89c  2b58d945f        yes     11     no\n",
       "4     ID_d56d6f5f5  2b58d945f        yes     11     no\n",
       "...            ...        ...        ...    ...    ...\n",
       "9552  ID_d45ae367d  d6c086aa3        .25      9     no\n",
       "9553  ID_c94744e07  d6c086aa3        .25      9     no\n",
       "9554  ID_85fc658f8  d6c086aa3        .25      9     no\n",
       "9555  ID_ced540c61  d6c086aa3        .25      9     no\n",
       "9556  ID_a38c64491  d6c086aa3        .25      9     no\n",
       "\n",
       "[9552 rows x 5 columns]"
      ]
     },
     "execution_count": 62,
     "metadata": {},
     "output_type": "execute_result"
    }
   ],
   "source": [
    "df_new[object_col]"
   ]
  },
  {
   "cell_type": "markdown",
   "id": "883dd76f",
   "metadata": {},
   "source": [
    "### convert yes/no to 1/0 and make them float type columns"
   ]
  },
  {
   "cell_type": "code",
   "execution_count": 63,
   "id": "5b351397",
   "metadata": {},
   "outputs": [],
   "source": [
    "## Train dataset\n",
    "df_new.dependency.replace(to_replace=['yes','no'],value=['1','0'],inplace=True)\n",
    "df_new.edjefe.replace(to_replace=['yes','no'],value=['1','0'],inplace=True)\n",
    "df_new.edjefa.replace(to_replace=['yes','no'],value=['1','0'],inplace=True)"
   ]
  },
  {
   "cell_type": "code",
   "execution_count": 64,
   "id": "f6d1d8d9",
   "metadata": {},
   "outputs": [],
   "source": [
    "## Test dataset\n",
    "test_data.dependency.replace(to_replace=['yes','no'],value=['1','0'],inplace=True)\n",
    "test_data.edjefe.replace(to_replace=['yes','no'],value=['1','0'],inplace=True)\n",
    "test_data.edjefa.replace(to_replace=['yes','no'],value=['1','0'],inplace=True)"
   ]
  },
  {
   "cell_type": "code",
   "execution_count": 65,
   "id": "678cf790",
   "metadata": {},
   "outputs": [],
   "source": [
    "df_new['dependency']=df_new['dependency'].astype('float')\n",
    "df_new['edjefe']=df_new['edjefe'].astype('float')\n",
    "df_new['edjefa']=df_new['edjefa'].astype('float')"
   ]
  },
  {
   "cell_type": "code",
   "execution_count": 66,
   "id": "c1c8b209",
   "metadata": {},
   "outputs": [],
   "source": [
    "test_data['dependency']=test_data['dependency'].astype('float')\n",
    "test_data['edjefe']=test_data['edjefe'].astype('float')\n",
    "test_data['edjefa']=test_data['edjefa'].astype('float')"
   ]
  },
  {
   "cell_type": "code",
   "execution_count": 67,
   "id": "89f2b0eb",
   "metadata": {},
   "outputs": [
    {
     "data": {
      "text/plain": [
       "Index(['Id', 'idhogar'], dtype='object')"
      ]
     },
     "execution_count": 67,
     "metadata": {},
     "output_type": "execute_result"
    }
   ],
   "source": [
    "df_new.columns[df_new.dtypes=='object']"
   ]
  },
  {
   "cell_type": "code",
   "execution_count": 68,
   "id": "36d9bd25",
   "metadata": {},
   "outputs": [
    {
     "data": {
      "text/plain": [
       "Index(['Id', 'idhogar'], dtype='object')"
      ]
     },
     "execution_count": 68,
     "metadata": {},
     "output_type": "execute_result"
    }
   ],
   "source": [
    "test_data.columns[test_data.dtypes=='object']"
   ]
  },
  {
   "cell_type": "code",
   "execution_count": 69,
   "id": "9214314d",
   "metadata": {},
   "outputs": [],
   "source": [
    "## done successfully "
   ]
  },
  {
   "cell_type": "markdown",
   "id": "7386a252",
   "metadata": {},
   "source": [
    "### Household has head or not?"
   ]
  },
  {
   "cell_type": "code",
   "execution_count": 71,
   "id": "bf2c8096",
   "metadata": {},
   "outputs": [
    {
     "data": {
      "text/html": [
       "<div>\n",
       "<style scoped>\n",
       "    .dataframe tbody tr th:only-of-type {\n",
       "        vertical-align: middle;\n",
       "    }\n",
       "\n",
       "    .dataframe tbody tr th {\n",
       "        vertical-align: top;\n",
       "    }\n",
       "\n",
       "    .dataframe thead th {\n",
       "        text-align: right;\n",
       "    }\n",
       "</style>\n",
       "<table border=\"1\" class=\"dataframe\">\n",
       "  <thead>\n",
       "    <tr style=\"text-align: right;\">\n",
       "      <th></th>\n",
       "      <th>parentesco1</th>\n",
       "    </tr>\n",
       "    <tr>\n",
       "      <th>idhogar</th>\n",
       "      <th></th>\n",
       "    </tr>\n",
       "  </thead>\n",
       "  <tbody>\n",
       "    <tr>\n",
       "      <th>001ff74ca</th>\n",
       "      <td>1</td>\n",
       "    </tr>\n",
       "    <tr>\n",
       "      <th>003123ec2</th>\n",
       "      <td>1</td>\n",
       "    </tr>\n",
       "    <tr>\n",
       "      <th>004616164</th>\n",
       "      <td>1</td>\n",
       "    </tr>\n",
       "    <tr>\n",
       "      <th>004983866</th>\n",
       "      <td>1</td>\n",
       "    </tr>\n",
       "    <tr>\n",
       "      <th>005905417</th>\n",
       "      <td>1</td>\n",
       "    </tr>\n",
       "    <tr>\n",
       "      <th>...</th>\n",
       "      <td>...</td>\n",
       "    </tr>\n",
       "    <tr>\n",
       "      <th>ff9343a35</th>\n",
       "      <td>1</td>\n",
       "    </tr>\n",
       "    <tr>\n",
       "      <th>ff9d5ab17</th>\n",
       "      <td>1</td>\n",
       "    </tr>\n",
       "    <tr>\n",
       "      <th>ffae4a097</th>\n",
       "      <td>1</td>\n",
       "    </tr>\n",
       "    <tr>\n",
       "      <th>ffe90d46f</th>\n",
       "      <td>1</td>\n",
       "    </tr>\n",
       "    <tr>\n",
       "      <th>fff7d6be1</th>\n",
       "      <td>1</td>\n",
       "    </tr>\n",
       "  </tbody>\n",
       "</table>\n",
       "<p>2985 rows × 1 columns</p>\n",
       "</div>"
      ],
      "text/plain": [
       "           parentesco1\n",
       "idhogar               \n",
       "001ff74ca            1\n",
       "003123ec2            1\n",
       "004616164            1\n",
       "004983866            1\n",
       "005905417            1\n",
       "...                ...\n",
       "ff9343a35            1\n",
       "ff9d5ab17            1\n",
       "ffae4a097            1\n",
       "ffe90d46f            1\n",
       "fff7d6be1            1\n",
       "\n",
       "[2985 rows x 1 columns]"
      ]
     },
     "execution_count": 71,
     "metadata": {},
     "output_type": "execute_result"
    }
   ],
   "source": [
    "head=pd.DataFrame(df_new.groupby('idhogar').parentesco1.sum())\n",
    "head"
   ]
  },
  {
   "cell_type": "code",
   "execution_count": 72,
   "id": "941bfbd9",
   "metadata": {},
   "outputs": [],
   "source": [
    "head.reset_index(inplace=True)"
   ]
  },
  {
   "cell_type": "code",
   "execution_count": 74,
   "id": "a0f5e594",
   "metadata": {},
   "outputs": [
    {
     "data": {
      "text/html": [
       "<div>\n",
       "<style scoped>\n",
       "    .dataframe tbody tr th:only-of-type {\n",
       "        vertical-align: middle;\n",
       "    }\n",
       "\n",
       "    .dataframe tbody tr th {\n",
       "        vertical-align: top;\n",
       "    }\n",
       "\n",
       "    .dataframe thead th {\n",
       "        text-align: right;\n",
       "    }\n",
       "</style>\n",
       "<table border=\"1\" class=\"dataframe\">\n",
       "  <thead>\n",
       "    <tr style=\"text-align: right;\">\n",
       "      <th></th>\n",
       "      <th>idhogar</th>\n",
       "      <th>parentesco1</th>\n",
       "    </tr>\n",
       "  </thead>\n",
       "  <tbody>\n",
       "    <tr>\n",
       "      <th>0</th>\n",
       "      <td>001ff74ca</td>\n",
       "      <td>1</td>\n",
       "    </tr>\n",
       "    <tr>\n",
       "      <th>1</th>\n",
       "      <td>003123ec2</td>\n",
       "      <td>1</td>\n",
       "    </tr>\n",
       "    <tr>\n",
       "      <th>2</th>\n",
       "      <td>004616164</td>\n",
       "      <td>1</td>\n",
       "    </tr>\n",
       "    <tr>\n",
       "      <th>3</th>\n",
       "      <td>004983866</td>\n",
       "      <td>1</td>\n",
       "    </tr>\n",
       "    <tr>\n",
       "      <th>4</th>\n",
       "      <td>005905417</td>\n",
       "      <td>1</td>\n",
       "    </tr>\n",
       "  </tbody>\n",
       "</table>\n",
       "</div>"
      ],
      "text/plain": [
       "     idhogar  parentesco1\n",
       "0  001ff74ca            1\n",
       "1  003123ec2            1\n",
       "2  004616164            1\n",
       "3  004983866            1\n",
       "4  005905417            1"
      ]
     },
     "execution_count": 74,
     "metadata": {},
     "output_type": "execute_result"
    }
   ],
   "source": [
    "head.head()"
   ]
  },
  {
   "cell_type": "code",
   "execution_count": 75,
   "id": "cbe858f8",
   "metadata": {},
   "outputs": [],
   "source": [
    "##length and name of household which had no head\n",
    "no_head=[]\n",
    "for i in head.index:\n",
    "    if head.iloc[i,1]==0:\n",
    "        no_head.append(head.iloc[i,0])"
   ]
  },
  {
   "cell_type": "code",
   "execution_count": 76,
   "id": "7e57aed2",
   "metadata": {},
   "outputs": [
    {
     "name": "stdout",
     "output_type": "stream",
     "text": [
      "Length of families with no head:- 15\n",
      "Idhoagr of families with no head:-  ['03c6bdf85', '09b195e7a', '1367ab31d', '1bc617b23', '374ca5a19', '61c10e099', '6b1b2405f', '896fe6d3e', 'a0812ef17', 'ad687ad89', 'b1f4d89d7', 'bfd5067c2', 'c0c8a5013', 'd363d9183', 'f2bfa75c4']\n"
     ]
    }
   ],
   "source": [
    "print('Length of families with no head:-',len(no_head))\n",
    "print('Idhoagr of families with no head:- ',no_head)\n"
   ]
  },
  {
   "cell_type": "markdown",
   "id": "78389046",
   "metadata": {},
   "source": [
    "### All members of family have same poverty level or not?\n"
   ]
  },
  {
   "cell_type": "code",
   "execution_count": 77,
   "id": "9202011e",
   "metadata": {},
   "outputs": [],
   "source": [
    "##Boolean values of families with same or different poverty level.\n",
    "poverty=df_new.groupby('idhogar').Target.apply(lambda x:x.nunique()==1)"
   ]
  },
  {
   "cell_type": "code",
   "execution_count": 78,
   "id": "0dc2e8fc",
   "metadata": {},
   "outputs": [
    {
     "data": {
      "text/plain": [
       "idhogar\n",
       "001ff74ca    True\n",
       "003123ec2    True\n",
       "004616164    True\n",
       "004983866    True\n",
       "005905417    True\n",
       "Name: Target, dtype: bool"
      ]
     },
     "execution_count": 78,
     "metadata": {},
     "output_type": "execute_result"
    }
   ],
   "source": [
    "poverty.head()"
   ]
  },
  {
   "cell_type": "code",
   "execution_count": 79,
   "id": "ae1a2344",
   "metadata": {},
   "outputs": [],
   "source": [
    "not_Equal=poverty[poverty!=True]\n",
    "## not_Equal have families name which have different poverty level of members."
   ]
  },
  {
   "cell_type": "code",
   "execution_count": 80,
   "id": "e6d4d8fc",
   "metadata": {},
   "outputs": [
    {
     "name": "stdout",
     "output_type": "stream",
     "text": [
      "Length of families with different poverty level:- 85\n",
      "Name of families with different poverty level:- Index(['0172ab1d9', '03f4e5f4d', '0511912b6', '078a0b6e2', '09e25d616',\n",
      "       '0f3e65c83', '0f9494d3a', '15a891635', '17fb04a62', '18832b840',\n",
      "       '26b3a0f41', '288579c97', '28893b5e7', '2c9872b82', '2cb443214',\n",
      "       '309fb7246', '30a70901d', '3c6973219', '3c73c107f', '3df651058',\n",
      "       '3fe29a56b', '410194c8b', '417865404', '42ec8bef5', '43b9c83e5',\n",
      "       '44f219a16', '46af47063', '4b6077882', '4c2dba109', '4dc11e11f',\n",
      "       '4e19bd549', '50e064ee8', '513adb616', '54118d5d9', '55a662731',\n",
      "       '564eab113', '594d3eb27', '5c3f7725d', '5c6f32bbc', '5e9329fc6',\n",
      "       '614b48fb7', '636330516', '654ef7612', '67ad49822', '6833ac5dc',\n",
      "       '694a0cbf4', '6a389f3de', '6bcf799cf', '6c543442a', '71cd52a80',\n",
      "       '73d85d05d', '7ad269eef', '7c57f8237', '7e9d58c5c', '7ea6aca15',\n",
      "       '80a66379b', '811a35744', '8242a51ec', '8420bcfca', '8ae3e74ca',\n",
      "       '8bb6da3c1', '932287f5d', '9bbf7c6ca', 'a20ff33ba', 'a3288e6fa',\n",
      "       'a94a45642', 'bcaa2e2f5', 'bcab69521', 'bd82509d1', 'be91da044',\n",
      "       'c13325faf', 'c38913488', 'c7ce4e30c', 'cc971b690', 'd64524b6b',\n",
      "       'd9b1558b5', 'daafc1281', 'dfb966eec', 'e17b252ed', 'e235a4eec',\n",
      "       'e65d4b943', 'efd3aec61', 'f006348ed', 'f7b421c2c', 'f94589d38'],\n",
      "      dtype='object', name='idhogar')\n"
     ]
    }
   ],
   "source": [
    "##length and idhogar of families with different poverty level of members.\n",
    "print('Length of families with different poverty level:-',len(not_Equal))\n",
    "print('Name of families with different poverty level:-',not_Equal.index)"
   ]
  },
  {
   "cell_type": "code",
   "execution_count": 81,
   "id": "7f1a0c4c",
   "metadata": {},
   "outputs": [
    {
     "data": {
      "text/html": [
       "<div>\n",
       "<style scoped>\n",
       "    .dataframe tbody tr th:only-of-type {\n",
       "        vertical-align: middle;\n",
       "    }\n",
       "\n",
       "    .dataframe tbody tr th {\n",
       "        vertical-align: top;\n",
       "    }\n",
       "\n",
       "    .dataframe thead th {\n",
       "        text-align: right;\n",
       "    }\n",
       "</style>\n",
       "<table border=\"1\" class=\"dataframe\">\n",
       "  <thead>\n",
       "    <tr style=\"text-align: right;\">\n",
       "      <th></th>\n",
       "      <th>idhogar</th>\n",
       "      <th>Id</th>\n",
       "      <th>Target</th>\n",
       "    </tr>\n",
       "  </thead>\n",
       "  <tbody>\n",
       "    <tr>\n",
       "      <th>4935</th>\n",
       "      <td>09b195e7a</td>\n",
       "      <td>ID_717302050</td>\n",
       "      <td>3</td>\n",
       "    </tr>\n",
       "    <tr>\n",
       "      <th>4975</th>\n",
       "      <td>896fe6d3e</td>\n",
       "      <td>ID_ff6f13458</td>\n",
       "      <td>3</td>\n",
       "    </tr>\n",
       "    <tr>\n",
       "      <th>5391</th>\n",
       "      <td>61c10e099</td>\n",
       "      <td>ID_64c9eabac</td>\n",
       "      <td>3</td>\n",
       "    </tr>\n",
       "    <tr>\n",
       "      <th>5396</th>\n",
       "      <td>374ca5a19</td>\n",
       "      <td>ID_8948b1f91</td>\n",
       "      <td>3</td>\n",
       "    </tr>\n",
       "    <tr>\n",
       "      <th>6443</th>\n",
       "      <td>bfd5067c2</td>\n",
       "      <td>ID_8ddb34d2c</td>\n",
       "      <td>3</td>\n",
       "    </tr>\n",
       "    <tr>\n",
       "      <th>6444</th>\n",
       "      <td>bfd5067c2</td>\n",
       "      <td>ID_03e2f23b0</td>\n",
       "      <td>3</td>\n",
       "    </tr>\n",
       "    <tr>\n",
       "      <th>7086</th>\n",
       "      <td>1367ab31d</td>\n",
       "      <td>ID_ba2ac56bb</td>\n",
       "      <td>3</td>\n",
       "    </tr>\n",
       "    <tr>\n",
       "      <th>7438</th>\n",
       "      <td>6b1b2405f</td>\n",
       "      <td>ID_7ba374a80</td>\n",
       "      <td>4</td>\n",
       "    </tr>\n",
       "    <tr>\n",
       "      <th>7439</th>\n",
       "      <td>6b1b2405f</td>\n",
       "      <td>ID_1bca5b5e5</td>\n",
       "      <td>4</td>\n",
       "    </tr>\n",
       "    <tr>\n",
       "      <th>7440</th>\n",
       "      <td>6b1b2405f</td>\n",
       "      <td>ID_622be4200</td>\n",
       "      <td>4</td>\n",
       "    </tr>\n",
       "    <tr>\n",
       "      <th>7461</th>\n",
       "      <td>f2bfa75c4</td>\n",
       "      <td>ID_1f91daf92</td>\n",
       "      <td>3</td>\n",
       "    </tr>\n",
       "    <tr>\n",
       "      <th>7462</th>\n",
       "      <td>f2bfa75c4</td>\n",
       "      <td>ID_686d2639f</td>\n",
       "      <td>3</td>\n",
       "    </tr>\n",
       "    <tr>\n",
       "      <th>7463</th>\n",
       "      <td>f2bfa75c4</td>\n",
       "      <td>ID_b84170356</td>\n",
       "      <td>3</td>\n",
       "    </tr>\n",
       "    <tr>\n",
       "      <th>7705</th>\n",
       "      <td>03c6bdf85</td>\n",
       "      <td>ID_c7c038825</td>\n",
       "      <td>3</td>\n",
       "    </tr>\n",
       "    <tr>\n",
       "      <th>7706</th>\n",
       "      <td>03c6bdf85</td>\n",
       "      <td>ID_ebef0991f</td>\n",
       "      <td>3</td>\n",
       "    </tr>\n",
       "    <tr>\n",
       "      <th>7756</th>\n",
       "      <td>ad687ad89</td>\n",
       "      <td>ID_f81c03ca9</td>\n",
       "      <td>3</td>\n",
       "    </tr>\n",
       "    <tr>\n",
       "      <th>7757</th>\n",
       "      <td>b1f4d89d7</td>\n",
       "      <td>ID_c792d2a9b</td>\n",
       "      <td>3</td>\n",
       "    </tr>\n",
       "    <tr>\n",
       "      <th>8431</th>\n",
       "      <td>c0c8a5013</td>\n",
       "      <td>ID_0f75a20b2</td>\n",
       "      <td>3</td>\n",
       "    </tr>\n",
       "    <tr>\n",
       "      <th>8432</th>\n",
       "      <td>c0c8a5013</td>\n",
       "      <td>ID_dfab56985</td>\n",
       "      <td>3</td>\n",
       "    </tr>\n",
       "    <tr>\n",
       "      <th>8433</th>\n",
       "      <td>c0c8a5013</td>\n",
       "      <td>ID_82ebed6d4</td>\n",
       "      <td>3</td>\n",
       "    </tr>\n",
       "    <tr>\n",
       "      <th>8636</th>\n",
       "      <td>a0812ef17</td>\n",
       "      <td>ID_a6e897e47</td>\n",
       "      <td>3</td>\n",
       "    </tr>\n",
       "    <tr>\n",
       "      <th>9489</th>\n",
       "      <td>d363d9183</td>\n",
       "      <td>ID_7788ff3e2</td>\n",
       "      <td>3</td>\n",
       "    </tr>\n",
       "    <tr>\n",
       "      <th>9497</th>\n",
       "      <td>1bc617b23</td>\n",
       "      <td>ID_60c0ce2d4</td>\n",
       "      <td>3</td>\n",
       "    </tr>\n",
       "  </tbody>\n",
       "</table>\n",
       "</div>"
      ],
      "text/plain": [
       "        idhogar            Id  Target\n",
       "4935  09b195e7a  ID_717302050       3\n",
       "4975  896fe6d3e  ID_ff6f13458       3\n",
       "5391  61c10e099  ID_64c9eabac       3\n",
       "5396  374ca5a19  ID_8948b1f91       3\n",
       "6443  bfd5067c2  ID_8ddb34d2c       3\n",
       "6444  bfd5067c2  ID_03e2f23b0       3\n",
       "7086  1367ab31d  ID_ba2ac56bb       3\n",
       "7438  6b1b2405f  ID_7ba374a80       4\n",
       "7439  6b1b2405f  ID_1bca5b5e5       4\n",
       "7440  6b1b2405f  ID_622be4200       4\n",
       "7461  f2bfa75c4  ID_1f91daf92       3\n",
       "7462  f2bfa75c4  ID_686d2639f       3\n",
       "7463  f2bfa75c4  ID_b84170356       3\n",
       "7705  03c6bdf85  ID_c7c038825       3\n",
       "7706  03c6bdf85  ID_ebef0991f       3\n",
       "7756  ad687ad89  ID_f81c03ca9       3\n",
       "7757  b1f4d89d7  ID_c792d2a9b       3\n",
       "8431  c0c8a5013  ID_0f75a20b2       3\n",
       "8432  c0c8a5013  ID_dfab56985       3\n",
       "8433  c0c8a5013  ID_82ebed6d4       3\n",
       "8636  a0812ef17  ID_a6e897e47       3\n",
       "9489  d363d9183  ID_7788ff3e2       3\n",
       "9497  1bc617b23  ID_60c0ce2d4       3"
      ]
     },
     "execution_count": 81,
     "metadata": {},
     "output_type": "execute_result"
    }
   ],
   "source": [
    "## Dataframe of families with no head.\n",
    "no_head_families=df_new.loc[df_new['idhogar'].isin(no_head)]\n",
    "no_head_families[['idhogar','Id','Target']]"
   ]
  },
  {
   "cell_type": "code",
   "execution_count": 82,
   "id": "7d41aecf",
   "metadata": {},
   "outputs": [
    {
     "data": {
      "text/plain": [
       "idhogar\n",
       "03c6bdf85    True\n",
       "09b195e7a    True\n",
       "1367ab31d    True\n",
       "1bc617b23    True\n",
       "374ca5a19    True\n",
       "61c10e099    True\n",
       "6b1b2405f    True\n",
       "896fe6d3e    True\n",
       "a0812ef17    True\n",
       "ad687ad89    True\n",
       "b1f4d89d7    True\n",
       "bfd5067c2    True\n",
       "c0c8a5013    True\n",
       "d363d9183    True\n",
       "f2bfa75c4    True\n",
       "Name: Target, dtype: bool"
      ]
     },
     "execution_count": 82,
     "metadata": {},
     "output_type": "execute_result"
    }
   ],
   "source": [
    "## Check whether family with NO head having same target or not?\n",
    "no_head_families.groupby('idhogar').Target.apply(lambda x:x.nunique()==1)"
   ]
  },
  {
   "cell_type": "code",
   "execution_count": 83,
   "id": "b6b63515",
   "metadata": {},
   "outputs": [],
   "source": [
    "## Hence family with 'NO' head had same poverty level."
   ]
  },
  {
   "cell_type": "code",
   "execution_count": 84,
   "id": "fbb2ccbc",
   "metadata": {},
   "outputs": [],
   "source": [
    "## Update values of 85 family members with Poverty level of head."
   ]
  },
  {
   "cell_type": "code",
   "execution_count": 85,
   "id": "d6c2fe24",
   "metadata": {},
   "outputs": [
    {
     "data": {
      "text/plain": [
       "(335, 143)"
      ]
     },
     "execution_count": 85,
     "metadata": {},
     "output_type": "execute_result"
    }
   ],
   "source": [
    "not_equal_families=df_new.loc[df_new['idhogar'].isin(not_Equal.index)]\n",
    "not_equal_families.shape"
   ]
  },
  {
   "cell_type": "code",
   "execution_count": 86,
   "id": "78a1aa6e",
   "metadata": {},
   "outputs": [],
   "source": [
    "for i in not_Equal.index:\n",
    "    #find true target for unequal target of same family\n",
    "    true_target=int(df_new[(df_new['idhogar']==i) & (df_new['parentesco1']==1.0)]['Target'])\n",
    "    # update the true values in the id of family members\n",
    "    df_new.loc[df_new['idhogar']==i,'Target']=true_target"
   ]
  },
  {
   "cell_type": "code",
   "execution_count": 87,
   "id": "980d5dc3",
   "metadata": {},
   "outputs": [],
   "source": [
    "## Again check for the process done successfully or not\n",
    "check_equality=df_new.groupby('idhogar')['Target'].apply(lambda x:x.nunique()==1)"
   ]
  },
  {
   "cell_type": "code",
   "execution_count": 88,
   "id": "85d782f1",
   "metadata": {},
   "outputs": [
    {
     "data": {
      "text/plain": [
       "Series([], Name: Target, dtype: bool)"
      ]
     },
     "execution_count": 88,
     "metadata": {},
     "output_type": "execute_result"
    }
   ],
   "source": [
    "check_equality[check_equality!=True]"
   ]
  },
  {
   "cell_type": "code",
   "execution_count": 89,
   "id": "8af2ec1e",
   "metadata": {},
   "outputs": [],
   "source": [
    "## Hence Target values update successfully."
   ]
  },
  {
   "cell_type": "code",
   "execution_count": 90,
   "id": "1e1a9b0a",
   "metadata": {},
   "outputs": [
    {
     "data": {
      "text/plain": [
       "Index([], dtype='object')"
      ]
     },
     "execution_count": 90,
     "metadata": {},
     "output_type": "execute_result"
    }
   ],
   "source": [
    "df_new.columns[df_new.isna().any()==True]"
   ]
  },
  {
   "cell_type": "markdown",
   "id": "62319eaa",
   "metadata": {},
   "source": [
    "### Removal of Zero variance columns and highly correlated columns."
   ]
  },
  {
   "cell_type": "code",
   "execution_count": 91,
   "id": "cc766d65",
   "metadata": {},
   "outputs": [
    {
     "data": {
      "text/plain": [
       "elimbasu5    True\n",
       "dtype: bool"
      ]
     },
     "execution_count": 91,
     "metadata": {},
     "output_type": "execute_result"
    }
   ],
   "source": [
    "col_zero_var=df_new.var()<=0\n",
    "col_zero_var[col_zero_var==True]"
   ]
  },
  {
   "cell_type": "code",
   "execution_count": 92,
   "id": "9bcd4e54",
   "metadata": {},
   "outputs": [],
   "source": [
    "#Hence drop elimbasu5 from both train and test data\n",
    "df_new.drop('elimbasu5',inplace=True,axis=1)"
   ]
  },
  {
   "cell_type": "code",
   "execution_count": 93,
   "id": "488eb052",
   "metadata": {},
   "outputs": [],
   "source": [
    "test_data.drop('elimbasu5',inplace=True,axis=1)"
   ]
  },
  {
   "cell_type": "code",
   "execution_count": 94,
   "id": "41c48ec6",
   "metadata": {},
   "outputs": [
    {
     "data": {
      "text/html": [
       "<div>\n",
       "<style scoped>\n",
       "    .dataframe tbody tr th:only-of-type {\n",
       "        vertical-align: middle;\n",
       "    }\n",
       "\n",
       "    .dataframe tbody tr th {\n",
       "        vertical-align: top;\n",
       "    }\n",
       "\n",
       "    .dataframe thead th {\n",
       "        text-align: right;\n",
       "    }\n",
       "</style>\n",
       "<table border=\"1\" class=\"dataframe\">\n",
       "  <thead>\n",
       "    <tr style=\"text-align: right;\">\n",
       "      <th></th>\n",
       "      <th>v2a1</th>\n",
       "      <th>hacdor</th>\n",
       "      <th>rooms</th>\n",
       "      <th>hacapo</th>\n",
       "      <th>v14a</th>\n",
       "      <th>refrig</th>\n",
       "      <th>v18q</th>\n",
       "      <th>v18q1</th>\n",
       "      <th>r4h1</th>\n",
       "      <th>r4h2</th>\n",
       "      <th>...</th>\n",
       "      <th>SQBescolari</th>\n",
       "      <th>SQBage</th>\n",
       "      <th>SQBhogar_total</th>\n",
       "      <th>SQBedjefe</th>\n",
       "      <th>SQBhogar_nin</th>\n",
       "      <th>SQBovercrowding</th>\n",
       "      <th>SQBdependency</th>\n",
       "      <th>SQBmeaned</th>\n",
       "      <th>agesq</th>\n",
       "      <th>Target</th>\n",
       "    </tr>\n",
       "  </thead>\n",
       "  <tbody>\n",
       "    <tr>\n",
       "      <th>v2a1</th>\n",
       "      <td>1.000000</td>\n",
       "      <td>-0.025418</td>\n",
       "      <td>0.102493</td>\n",
       "      <td>-0.030822</td>\n",
       "      <td>0.018335</td>\n",
       "      <td>0.061477</td>\n",
       "      <td>0.172178</td>\n",
       "      <td>0.196499</td>\n",
       "      <td>0.018109</td>\n",
       "      <td>-0.059153</td>\n",
       "      <td>...</td>\n",
       "      <td>0.191484</td>\n",
       "      <td>-0.106003</td>\n",
       "      <td>-0.023676</td>\n",
       "      <td>0.260473</td>\n",
       "      <td>0.009851</td>\n",
       "      <td>-0.045744</td>\n",
       "      <td>-0.075856</td>\n",
       "      <td>0.279741</td>\n",
       "      <td>-0.106003</td>\n",
       "      <td>0.165880</td>\n",
       "    </tr>\n",
       "    <tr>\n",
       "      <th>hacdor</th>\n",
       "      <td>-0.025418</td>\n",
       "      <td>1.000000</td>\n",
       "      <td>-0.233755</td>\n",
       "      <td>0.652588</td>\n",
       "      <td>-0.175006</td>\n",
       "      <td>-0.101945</td>\n",
       "      <td>-0.084745</td>\n",
       "      <td>-0.078046</td>\n",
       "      <td>0.232471</td>\n",
       "      <td>0.059287</td>\n",
       "      <td>...</td>\n",
       "      <td>-0.109860</td>\n",
       "      <td>-0.102820</td>\n",
       "      <td>0.350528</td>\n",
       "      <td>-0.082231</td>\n",
       "      <td>0.388044</td>\n",
       "      <td>0.794729</td>\n",
       "      <td>0.005813</td>\n",
       "      <td>-0.099153</td>\n",
       "      <td>-0.102820</td>\n",
       "      <td>-0.192006</td>\n",
       "    </tr>\n",
       "    <tr>\n",
       "      <th>rooms</th>\n",
       "      <td>0.102493</td>\n",
       "      <td>-0.233755</td>\n",
       "      <td>1.000000</td>\n",
       "      <td>-0.213702</td>\n",
       "      <td>0.129370</td>\n",
       "      <td>0.130816</td>\n",
       "      <td>0.254159</td>\n",
       "      <td>0.271529</td>\n",
       "      <td>-0.067049</td>\n",
       "      <td>0.267986</td>\n",
       "      <td>...</td>\n",
       "      <td>0.233806</td>\n",
       "      <td>0.067846</td>\n",
       "      <td>0.221329</td>\n",
       "      <td>0.199288</td>\n",
       "      <td>0.008039</td>\n",
       "      <td>-0.355858</td>\n",
       "      <td>-0.024399</td>\n",
       "      <td>0.250061</td>\n",
       "      <td>0.067846</td>\n",
       "      <td>0.229839</td>\n",
       "    </tr>\n",
       "    <tr>\n",
       "      <th>hacapo</th>\n",
       "      <td>-0.030822</td>\n",
       "      <td>0.652588</td>\n",
       "      <td>-0.213702</td>\n",
       "      <td>1.000000</td>\n",
       "      <td>-0.150982</td>\n",
       "      <td>-0.124491</td>\n",
       "      <td>-0.067580</td>\n",
       "      <td>-0.061827</td>\n",
       "      <td>0.226353</td>\n",
       "      <td>0.126639</td>\n",
       "      <td>...</td>\n",
       "      <td>-0.092702</td>\n",
       "      <td>-0.075600</td>\n",
       "      <td>0.373723</td>\n",
       "      <td>-0.071173</td>\n",
       "      <td>0.367025</td>\n",
       "      <td>0.640118</td>\n",
       "      <td>0.014893</td>\n",
       "      <td>-0.103324</td>\n",
       "      <td>-0.075600</td>\n",
       "      <td>-0.137835</td>\n",
       "    </tr>\n",
       "    <tr>\n",
       "      <th>v14a</th>\n",
       "      <td>0.018335</td>\n",
       "      <td>-0.175006</td>\n",
       "      <td>0.129370</td>\n",
       "      <td>-0.150982</td>\n",
       "      <td>1.000000</td>\n",
       "      <td>0.143137</td>\n",
       "      <td>0.036419</td>\n",
       "      <td>0.031794</td>\n",
       "      <td>-0.054752</td>\n",
       "      <td>0.018149</td>\n",
       "      <td>...</td>\n",
       "      <td>0.036482</td>\n",
       "      <td>0.023863</td>\n",
       "      <td>0.009134</td>\n",
       "      <td>0.018896</td>\n",
       "      <td>-0.015191</td>\n",
       "      <td>-0.174970</td>\n",
       "      <td>0.005563</td>\n",
       "      <td>0.034711</td>\n",
       "      <td>0.023863</td>\n",
       "      <td>0.063303</td>\n",
       "    </tr>\n",
       "    <tr>\n",
       "      <th>...</th>\n",
       "      <td>...</td>\n",
       "      <td>...</td>\n",
       "      <td>...</td>\n",
       "      <td>...</td>\n",
       "      <td>...</td>\n",
       "      <td>...</td>\n",
       "      <td>...</td>\n",
       "      <td>...</td>\n",
       "      <td>...</td>\n",
       "      <td>...</td>\n",
       "      <td>...</td>\n",
       "      <td>...</td>\n",
       "      <td>...</td>\n",
       "      <td>...</td>\n",
       "      <td>...</td>\n",
       "      <td>...</td>\n",
       "      <td>...</td>\n",
       "      <td>...</td>\n",
       "      <td>...</td>\n",
       "      <td>...</td>\n",
       "      <td>...</td>\n",
       "    </tr>\n",
       "    <tr>\n",
       "      <th>SQBovercrowding</th>\n",
       "      <td>-0.045744</td>\n",
       "      <td>0.794729</td>\n",
       "      <td>-0.355858</td>\n",
       "      <td>0.640118</td>\n",
       "      <td>-0.174970</td>\n",
       "      <td>-0.123030</td>\n",
       "      <td>-0.126041</td>\n",
       "      <td>-0.114737</td>\n",
       "      <td>0.355624</td>\n",
       "      <td>0.144459</td>\n",
       "      <td>...</td>\n",
       "      <td>-0.201139</td>\n",
       "      <td>-0.218513</td>\n",
       "      <td>0.475172</td>\n",
       "      <td>-0.105936</td>\n",
       "      <td>0.477881</td>\n",
       "      <td>1.000000</td>\n",
       "      <td>-0.049070</td>\n",
       "      <td>-0.150997</td>\n",
       "      <td>-0.218513</td>\n",
       "      <td>-0.259707</td>\n",
       "    </tr>\n",
       "    <tr>\n",
       "      <th>SQBdependency</th>\n",
       "      <td>-0.075856</td>\n",
       "      <td>0.005813</td>\n",
       "      <td>-0.024399</td>\n",
       "      <td>0.014893</td>\n",
       "      <td>0.005563</td>\n",
       "      <td>-0.034820</td>\n",
       "      <td>-0.070556</td>\n",
       "      <td>-0.065938</td>\n",
       "      <td>-0.035771</td>\n",
       "      <td>-0.157466</td>\n",
       "      <td>...</td>\n",
       "      <td>-0.049932</td>\n",
       "      <td>0.400181</td>\n",
       "      <td>-0.102787</td>\n",
       "      <td>-0.032861</td>\n",
       "      <td>0.049575</td>\n",
       "      <td>-0.049070</td>\n",
       "      <td>1.000000</td>\n",
       "      <td>-0.065129</td>\n",
       "      <td>0.400181</td>\n",
       "      <td>-0.085870</td>\n",
       "    </tr>\n",
       "    <tr>\n",
       "      <th>SQBmeaned</th>\n",
       "      <td>0.279741</td>\n",
       "      <td>-0.099153</td>\n",
       "      <td>0.250061</td>\n",
       "      <td>-0.103324</td>\n",
       "      <td>0.034711</td>\n",
       "      <td>0.117406</td>\n",
       "      <td>0.302763</td>\n",
       "      <td>0.289304</td>\n",
       "      <td>-0.083552</td>\n",
       "      <td>-0.062217</td>\n",
       "      <td>...</td>\n",
       "      <td>0.510876</td>\n",
       "      <td>-0.112386</td>\n",
       "      <td>-0.067588</td>\n",
       "      <td>0.470993</td>\n",
       "      <td>-0.009591</td>\n",
       "      <td>-0.150997</td>\n",
       "      <td>-0.065129</td>\n",
       "      <td>1.000000</td>\n",
       "      <td>-0.112386</td>\n",
       "      <td>0.278708</td>\n",
       "    </tr>\n",
       "    <tr>\n",
       "      <th>agesq</th>\n",
       "      <td>-0.106003</td>\n",
       "      <td>-0.102820</td>\n",
       "      <td>0.067846</td>\n",
       "      <td>-0.075600</td>\n",
       "      <td>0.023863</td>\n",
       "      <td>0.025932</td>\n",
       "      <td>-0.054898</td>\n",
       "      <td>-0.053566</td>\n",
       "      <td>-0.272975</td>\n",
       "      <td>-0.054869</td>\n",
       "      <td>...</td>\n",
       "      <td>0.051981</td>\n",
       "      <td>1.000000</td>\n",
       "      <td>-0.238519</td>\n",
       "      <td>-0.018272</td>\n",
       "      <td>-0.278990</td>\n",
       "      <td>-0.218513</td>\n",
       "      <td>0.400181</td>\n",
       "      <td>-0.112386</td>\n",
       "      <td>1.000000</td>\n",
       "      <td>0.074224</td>\n",
       "    </tr>\n",
       "    <tr>\n",
       "      <th>Target</th>\n",
       "      <td>0.165880</td>\n",
       "      <td>-0.192006</td>\n",
       "      <td>0.229839</td>\n",
       "      <td>-0.137835</td>\n",
       "      <td>0.063303</td>\n",
       "      <td>0.130268</td>\n",
       "      <td>0.240077</td>\n",
       "      <td>0.202452</td>\n",
       "      <td>-0.231163</td>\n",
       "      <td>0.107189</td>\n",
       "      <td>...</td>\n",
       "      <td>0.300686</td>\n",
       "      <td>0.074224</td>\n",
       "      <td>-0.140896</td>\n",
       "      <td>0.248055</td>\n",
       "      <td>-0.310732</td>\n",
       "      <td>-0.259707</td>\n",
       "      <td>-0.085870</td>\n",
       "      <td>0.278708</td>\n",
       "      <td>0.074224</td>\n",
       "      <td>1.000000</td>\n",
       "    </tr>\n",
       "  </tbody>\n",
       "</table>\n",
       "<p>140 rows × 140 columns</p>\n",
       "</div>"
      ],
      "text/plain": [
       "                     v2a1    hacdor     rooms    hacapo      v14a    refrig  \\\n",
       "v2a1             1.000000 -0.025418  0.102493 -0.030822  0.018335  0.061477   \n",
       "hacdor          -0.025418  1.000000 -0.233755  0.652588 -0.175006 -0.101945   \n",
       "rooms            0.102493 -0.233755  1.000000 -0.213702  0.129370  0.130816   \n",
       "hacapo          -0.030822  0.652588 -0.213702  1.000000 -0.150982 -0.124491   \n",
       "v14a             0.018335 -0.175006  0.129370 -0.150982  1.000000  0.143137   \n",
       "...                   ...       ...       ...       ...       ...       ...   \n",
       "SQBovercrowding -0.045744  0.794729 -0.355858  0.640118 -0.174970 -0.123030   \n",
       "SQBdependency   -0.075856  0.005813 -0.024399  0.014893  0.005563 -0.034820   \n",
       "SQBmeaned        0.279741 -0.099153  0.250061 -0.103324  0.034711  0.117406   \n",
       "agesq           -0.106003 -0.102820  0.067846 -0.075600  0.023863  0.025932   \n",
       "Target           0.165880 -0.192006  0.229839 -0.137835  0.063303  0.130268   \n",
       "\n",
       "                     v18q     v18q1      r4h1      r4h2  ...  SQBescolari  \\\n",
       "v2a1             0.172178  0.196499  0.018109 -0.059153  ...     0.191484   \n",
       "hacdor          -0.084745 -0.078046  0.232471  0.059287  ...    -0.109860   \n",
       "rooms            0.254159  0.271529 -0.067049  0.267986  ...     0.233806   \n",
       "hacapo          -0.067580 -0.061827  0.226353  0.126639  ...    -0.092702   \n",
       "v14a             0.036419  0.031794 -0.054752  0.018149  ...     0.036482   \n",
       "...                   ...       ...       ...       ...  ...          ...   \n",
       "SQBovercrowding -0.126041 -0.114737  0.355624  0.144459  ...    -0.201139   \n",
       "SQBdependency   -0.070556 -0.065938 -0.035771 -0.157466  ...    -0.049932   \n",
       "SQBmeaned        0.302763  0.289304 -0.083552 -0.062217  ...     0.510876   \n",
       "agesq           -0.054898 -0.053566 -0.272975 -0.054869  ...     0.051981   \n",
       "Target           0.240077  0.202452 -0.231163  0.107189  ...     0.300686   \n",
       "\n",
       "                   SQBage  SQBhogar_total  SQBedjefe  SQBhogar_nin  \\\n",
       "v2a1            -0.106003       -0.023676   0.260473      0.009851   \n",
       "hacdor          -0.102820        0.350528  -0.082231      0.388044   \n",
       "rooms            0.067846        0.221329   0.199288      0.008039   \n",
       "hacapo          -0.075600        0.373723  -0.071173      0.367025   \n",
       "v14a             0.023863        0.009134   0.018896     -0.015191   \n",
       "...                   ...             ...        ...           ...   \n",
       "SQBovercrowding -0.218513        0.475172  -0.105936      0.477881   \n",
       "SQBdependency    0.400181       -0.102787  -0.032861      0.049575   \n",
       "SQBmeaned       -0.112386       -0.067588   0.470993     -0.009591   \n",
       "agesq            1.000000       -0.238519  -0.018272     -0.278990   \n",
       "Target           0.074224       -0.140896   0.248055     -0.310732   \n",
       "\n",
       "                 SQBovercrowding  SQBdependency  SQBmeaned     agesq    Target  \n",
       "v2a1                   -0.045744      -0.075856   0.279741 -0.106003  0.165880  \n",
       "hacdor                  0.794729       0.005813  -0.099153 -0.102820 -0.192006  \n",
       "rooms                  -0.355858      -0.024399   0.250061  0.067846  0.229839  \n",
       "hacapo                  0.640118       0.014893  -0.103324 -0.075600 -0.137835  \n",
       "v14a                   -0.174970       0.005563   0.034711  0.023863  0.063303  \n",
       "...                          ...            ...        ...       ...       ...  \n",
       "SQBovercrowding         1.000000      -0.049070  -0.150997 -0.218513 -0.259707  \n",
       "SQBdependency          -0.049070       1.000000  -0.065129  0.400181 -0.085870  \n",
       "SQBmeaned              -0.150997      -0.065129   1.000000 -0.112386  0.278708  \n",
       "agesq                  -0.218513       0.400181  -0.112386  1.000000  0.074224  \n",
       "Target                 -0.259707      -0.085870   0.278708  0.074224  1.000000  \n",
       "\n",
       "[140 rows x 140 columns]"
      ]
     },
     "execution_count": 94,
     "metadata": {},
     "output_type": "execute_result"
    }
   ],
   "source": [
    "corr_matrix=df_new.corr()\n",
    "corr_matrix"
   ]
  },
  {
   "cell_type": "code",
   "execution_count": 95,
   "id": "3292d862",
   "metadata": {},
   "outputs": [],
   "source": [
    "##correalted features\n",
    "corr=[]\n",
    "for i in corr_matrix.index:\n",
    "    for j in corr_matrix.columns:\n",
    "        if i!=j:\n",
    "            if corr_matrix.loc[i,j]>0.95:\n",
    "                corr.append([i,j])\n",
    "            \n",
    "            "
   ]
  },
  {
   "cell_type": "code",
   "execution_count": 96,
   "id": "e2f406b5",
   "metadata": {},
   "outputs": [
    {
     "data": {
      "text/plain": [
       "[['r4t3', 'tamhog'],\n",
       " ['r4t3', 'hhsize'],\n",
       " ['r4t3', 'hogar_total'],\n",
       " ['tamhog', 'r4t3'],\n",
       " ['tamhog', 'hhsize'],\n",
       " ['tamhog', 'hogar_total'],\n",
       " ['tamhog', 'SQBhogar_total'],\n",
       " ['hhsize', 'r4t3'],\n",
       " ['hhsize', 'tamhog'],\n",
       " ['hhsize', 'hogar_total'],\n",
       " ['hhsize', 'SQBhogar_total'],\n",
       " ['hogar_total', 'r4t3'],\n",
       " ['hogar_total', 'tamhog'],\n",
       " ['hogar_total', 'hhsize'],\n",
       " ['hogar_total', 'SQBhogar_total'],\n",
       " ['age', 'SQBage'],\n",
       " ['age', 'agesq'],\n",
       " ['SQBage', 'age'],\n",
       " ['SQBage', 'agesq'],\n",
       " ['SQBhogar_total', 'tamhog'],\n",
       " ['SQBhogar_total', 'hhsize'],\n",
       " ['SQBhogar_total', 'hogar_total'],\n",
       " ['agesq', 'age'],\n",
       " ['agesq', 'SQBage']]"
      ]
     },
     "execution_count": 96,
     "metadata": {},
     "output_type": "execute_result"
    }
   ],
   "source": [
    "list(corr)"
   ]
  },
  {
   "cell_type": "code",
   "execution_count": 97,
   "id": "2b194c2f",
   "metadata": {},
   "outputs": [],
   "source": [
    "## As r4t3 , tamhog , hogar_total ,hhsize highly correlated to each other so we have to drop any three\n",
    "## Between SQBage ,age , agesq drop any two ."
   ]
  },
  {
   "cell_type": "code",
   "execution_count": 98,
   "id": "f79ae9cd",
   "metadata": {},
   "outputs": [],
   "source": [
    "df_new.drop(['tamhog','hogar_total','hhsize','SQBage','age'],axis=1,inplace=True)\n",
    "test_data.drop(['tamhog','hogar_total','hhsize','SQBage','age'],axis=1,inplace=True)"
   ]
  },
  {
   "cell_type": "code",
   "execution_count": 99,
   "id": "a3fafeee",
   "metadata": {},
   "outputs": [
    {
     "data": {
      "text/plain": [
       "(9552, 137)"
      ]
     },
     "execution_count": 99,
     "metadata": {},
     "output_type": "execute_result"
    }
   ],
   "source": [
    "df_new.shape"
   ]
  },
  {
   "cell_type": "code",
   "execution_count": 100,
   "id": "2a3db77b",
   "metadata": {},
   "outputs": [
    {
     "data": {
      "text/plain": [
       "(23825, 136)"
      ]
     },
     "execution_count": 100,
     "metadata": {},
     "output_type": "execute_result"
    }
   ],
   "source": [
    "test_data.shape"
   ]
  },
  {
   "cell_type": "markdown",
   "id": "389914a8",
   "metadata": {},
   "source": [
    "## Model building and prediction of test dataset"
   ]
  },
  {
   "cell_type": "code",
   "execution_count": 101,
   "id": "df1d8e57",
   "metadata": {},
   "outputs": [],
   "source": [
    "from sklearn.ensemble import RandomForestClassifier"
   ]
  },
  {
   "cell_type": "code",
   "execution_count": 102,
   "id": "28260573",
   "metadata": {},
   "outputs": [],
   "source": [
    "RFC=RandomForestClassifier()"
   ]
  },
  {
   "cell_type": "code",
   "execution_count": 103,
   "id": "8ec93cd2",
   "metadata": {},
   "outputs": [],
   "source": [
    "from sklearn.model_selection import train_test_split"
   ]
  },
  {
   "cell_type": "code",
   "execution_count": 104,
   "id": "6fe14cbc",
   "metadata": {},
   "outputs": [],
   "source": [
    "x=df_new.drop(['Id','idhogar','Target'],axis=1)"
   ]
  },
  {
   "cell_type": "code",
   "execution_count": 105,
   "id": "26d15b55",
   "metadata": {},
   "outputs": [
    {
     "data": {
      "text/plain": [
       "(9552, 134)"
      ]
     },
     "execution_count": 105,
     "metadata": {},
     "output_type": "execute_result"
    }
   ],
   "source": [
    "x.shape"
   ]
  },
  {
   "cell_type": "code",
   "execution_count": 106,
   "id": "3983c227",
   "metadata": {},
   "outputs": [
    {
     "data": {
      "text/plain": [
       "(9552,)"
      ]
     },
     "execution_count": 106,
     "metadata": {},
     "output_type": "execute_result"
    }
   ],
   "source": [
    "y=df_new['Target']\n",
    "y.shape"
   ]
  },
  {
   "cell_type": "code",
   "execution_count": 107,
   "id": "5cfc5895",
   "metadata": {},
   "outputs": [],
   "source": [
    "x_train,x_test,y_train,y_test=train_test_split(x,y,random_state=10,test_size=0.30)"
   ]
  },
  {
   "cell_type": "code",
   "execution_count": 108,
   "id": "6d1c54cc",
   "metadata": {},
   "outputs": [
    {
     "data": {
      "text/plain": [
       "RandomForestClassifier()"
      ]
     },
     "execution_count": 108,
     "metadata": {},
     "output_type": "execute_result"
    }
   ],
   "source": [
    "RFC.fit(x_train,y_train)"
   ]
  },
  {
   "cell_type": "code",
   "execution_count": 109,
   "id": "df7eadfa",
   "metadata": {},
   "outputs": [],
   "source": [
    "from sklearn.metrics import accuracy_score,classification_report,confusion_matrix"
   ]
  },
  {
   "cell_type": "code",
   "execution_count": 110,
   "id": "5ca37aca",
   "metadata": {},
   "outputs": [],
   "source": [
    "y_predict=RFC.predict(x_test)"
   ]
  },
  {
   "cell_type": "code",
   "execution_count": 111,
   "id": "51665a03",
   "metadata": {},
   "outputs": [
    {
     "name": "stdout",
     "output_type": "stream",
     "text": [
      "[4 4 3 4 4 4 4 4 4 3]\n"
     ]
    }
   ],
   "source": [
    "print(y_predict[:10])"
   ]
  },
  {
   "cell_type": "code",
   "execution_count": 112,
   "id": "3c51eee5",
   "metadata": {},
   "outputs": [
    {
     "data": {
      "text/plain": [
       "0.9319609211444522"
      ]
     },
     "execution_count": 112,
     "metadata": {},
     "output_type": "execute_result"
    }
   ],
   "source": [
    "accuracy_score(y_test,y_predict)"
   ]
  },
  {
   "cell_type": "code",
   "execution_count": 113,
   "id": "3055ed16",
   "metadata": {},
   "outputs": [
    {
     "data": {
      "text/plain": [
       "array([[ 171,    6,    0,   41],\n",
       "       [   0,  408,    2,   64],\n",
       "       [   1,    6,  280,   62],\n",
       "       [   1,    8,    4, 1812]], dtype=int64)"
      ]
     },
     "execution_count": 113,
     "metadata": {},
     "output_type": "execute_result"
    }
   ],
   "source": [
    "confusion_matrix(y_test,y_predict)"
   ]
  },
  {
   "cell_type": "code",
   "execution_count": 114,
   "id": "944fabbb",
   "metadata": {},
   "outputs": [
    {
     "data": {
      "text/plain": [
       "'              precision    recall  f1-score   support\\n\\n           1       0.99      0.78      0.87       218\\n           2       0.95      0.86      0.90       474\\n           3       0.98      0.80      0.88       349\\n           4       0.92      0.99      0.95      1825\\n\\n    accuracy                           0.93      2866\\n   macro avg       0.96      0.86      0.90      2866\\nweighted avg       0.94      0.93      0.93      2866\\n'"
      ]
     },
     "execution_count": 114,
     "metadata": {},
     "output_type": "execute_result"
    }
   ],
   "source": [
    "classification_report(y_test,y_predict)"
   ]
  },
  {
   "cell_type": "code",
   "execution_count": 115,
   "id": "6d7b1507",
   "metadata": {},
   "outputs": [],
   "source": [
    "## Apply cross validation because the dataset is biased."
   ]
  },
  {
   "cell_type": "code",
   "execution_count": 116,
   "id": "6ef36c10",
   "metadata": {},
   "outputs": [],
   "source": [
    "from sklearn.model_selection import RandomizedSearchCV\n",
    "# Number of trees in random forest\n",
    "n_estimators = [int(x) for x in np.linspace(start = 200, stop = 2000, num = 10)]\n",
    "# Number of features to consider at every split\n",
    "max_features = ['auto', 'sqrt']\n",
    "# Maximum number of levels in tree\n",
    "max_depth = [int(x) for x in np.linspace(10, 110, num = 11)]\n",
    "max_depth.append(None)\n",
    "# Minimum number of samples required to split a node\n",
    "min_samples_split = [2, 5, 10]\n",
    "# Minimum number of samples required at each leaf node\n",
    "min_samples_leaf = [1, 2, 4]\n",
    "# Method of selecting samples for training each tree\n",
    "bootstrap = [True, False]\n",
    "# Create the random grid\n",
    "random_grid = {'n_estimators': n_estimators,\n",
    "               'max_features': max_features,\n",
    "               'max_depth': max_depth,\n",
    "               'min_samples_split': min_samples_split,\n",
    "               'min_samples_leaf': min_samples_leaf,\n",
    "               'bootstrap': bootstrap}"
   ]
  },
  {
   "cell_type": "code",
   "execution_count": 117,
   "id": "8754fe69",
   "metadata": {},
   "outputs": [
    {
     "name": "stdout",
     "output_type": "stream",
     "text": [
      "Pretty printing has been turned OFF\n"
     ]
    }
   ],
   "source": [
    "pprint(random_grid)"
   ]
  },
  {
   "cell_type": "code",
   "execution_count": 118,
   "id": "c1f69014",
   "metadata": {},
   "outputs": [],
   "source": [
    "from sklearn.model_selection import KFold,cross_val_score,cross_val_predict"
   ]
  },
  {
   "cell_type": "code",
   "execution_count": 119,
   "id": "b5886297",
   "metadata": {},
   "outputs": [],
   "source": [
    "kfold=KFold(shuffle=True,n_splits=5,random_state=10)"
   ]
  },
  {
   "cell_type": "code",
   "execution_count": 120,
   "id": "778f37b9",
   "metadata": {},
   "outputs": [],
   "source": [
    "results=cross_val_score(RFC,x,y,cv=kfold)"
   ]
  },
  {
   "cell_type": "code",
   "execution_count": 121,
   "id": "0fd3f8a9",
   "metadata": {},
   "outputs": [
    {
     "data": {
      "text/plain": [
       "0.949853507250665"
      ]
     },
     "execution_count": 121,
     "metadata": {},
     "output_type": "execute_result"
    }
   ],
   "source": [
    "results.mean()"
   ]
  },
  {
   "cell_type": "code",
   "execution_count": 122,
   "id": "523b9db6",
   "metadata": {},
   "outputs": [],
   "source": [
    "random_model=RandomizedSearchCV(estimator=RFC,param_distributions=random_grid,n_jobs=-1,n_iter=10,verbose=42,random_state=10,cv=kfold)"
   ]
  },
  {
   "cell_type": "code",
   "execution_count": 123,
   "id": "bb2cdebf",
   "metadata": {},
   "outputs": [
    {
     "data": {
      "text/plain": [
       "<bound method BaseEstimator.get_params of RandomizedSearchCV(cv=KFold(n_splits=5, random_state=10, shuffle=True),\n",
       "                   estimator=RandomForestClassifier(), n_jobs=-1,\n",
       "                   param_distributions={'bootstrap': [True, False],\n",
       "                                        'max_depth': [10, 20, 30, 40, 50, 60,\n",
       "                                                      70, 80, 90, 100, 110,\n",
       "                                                      None],\n",
       "                                        'max_features': ['auto', 'sqrt'],\n",
       "                                        'min_samples_leaf': [1, 2, 4],\n",
       "                                        'min_samples_split': [2, 5, 10],\n",
       "                                        'n_estimators': [200, 400, 600, 800,\n",
       "                                                         1000, 1200, 1400, 1600,\n",
       "                                                         1800, 2000]},\n",
       "                   random_state=10, verbose=42)>"
      ]
     },
     "execution_count": 123,
     "metadata": {},
     "output_type": "execute_result"
    }
   ],
   "source": [
    "random_model.get_params"
   ]
  },
  {
   "cell_type": "code",
   "execution_count": 124,
   "id": "8c07b341",
   "metadata": {},
   "outputs": [
    {
     "name": "stdout",
     "output_type": "stream",
     "text": [
      "Fitting 5 folds for each of 10 candidates, totalling 50 fits\n"
     ]
    },
    {
     "data": {
      "text/plain": [
       "RandomizedSearchCV(cv=KFold(n_splits=5, random_state=10, shuffle=True),\n",
       "                   estimator=RandomForestClassifier(), n_jobs=-1,\n",
       "                   param_distributions={'bootstrap': [True, False],\n",
       "                                        'max_depth': [10, 20, 30, 40, 50, 60,\n",
       "                                                      70, 80, 90, 100, 110,\n",
       "                                                      None],\n",
       "                                        'max_features': ['auto', 'sqrt'],\n",
       "                                        'min_samples_leaf': [1, 2, 4],\n",
       "                                        'min_samples_split': [2, 5, 10],\n",
       "                                        'n_estimators': [200, 400, 600, 800,\n",
       "                                                         1000, 1200, 1400, 1600,\n",
       "                                                         1800, 2000]},\n",
       "                   random_state=10, verbose=42)"
      ]
     },
     "execution_count": 124,
     "metadata": {},
     "output_type": "execute_result"
    }
   ],
   "source": [
    "random_model.fit(x_train,y_train)"
   ]
  },
  {
   "cell_type": "code",
   "execution_count": 125,
   "id": "97a38d76",
   "metadata": {},
   "outputs": [
    {
     "data": {
      "text/plain": [
       "{'n_estimators': 400, 'min_samples_split': 10, 'min_samples_leaf': 1, 'max_features': 'auto', 'max_depth': 80, 'bootstrap': False}"
      ]
     },
     "execution_count": 125,
     "metadata": {},
     "output_type": "execute_result"
    }
   ],
   "source": [
    "random_model.best_params_"
   ]
  },
  {
   "cell_type": "code",
   "execution_count": 126,
   "id": "303ee140",
   "metadata": {},
   "outputs": [],
   "source": [
    "y_randompredict=random_model.predict(x_test)"
   ]
  },
  {
   "cell_type": "code",
   "execution_count": 127,
   "id": "50a503ae",
   "metadata": {},
   "outputs": [
    {
     "data": {
      "text/plain": [
       "0.9253314724354501"
      ]
     },
     "execution_count": 127,
     "metadata": {},
     "output_type": "execute_result"
    }
   ],
   "source": [
    "accuracy_score(y_test,y_randompredict)"
   ]
  },
  {
   "cell_type": "code",
   "execution_count": 123,
   "id": "48bc4373",
   "metadata": {},
   "outputs": [],
   "source": [
    "## Extraction of most important features "
   ]
  },
  {
   "cell_type": "code",
   "execution_count": 124,
   "id": "aa3ef869",
   "metadata": {},
   "outputs": [],
   "source": [
    "labels=list(x.columns)"
   ]
  },
  {
   "cell_type": "code",
   "execution_count": 125,
   "id": "cf7453a7",
   "metadata": {},
   "outputs": [],
   "source": [
    "feature_importance=pd.DataFrame({'features':labels,'importance':RFC.feature_importances_})"
   ]
  },
  {
   "cell_type": "code",
   "execution_count": 126,
   "id": "f5dfa022",
   "metadata": {},
   "outputs": [],
   "source": [
    "feature_importance.sort_values(by=['importance'],ascending=False,inplace=True)"
   ]
  },
  {
   "cell_type": "code",
   "execution_count": 127,
   "id": "ef5c68f6",
   "metadata": {},
   "outputs": [
    {
     "data": {
      "text/html": [
       "<div>\n",
       "<style scoped>\n",
       "    .dataframe tbody tr th:only-of-type {\n",
       "        vertical-align: middle;\n",
       "    }\n",
       "\n",
       "    .dataframe tbody tr th {\n",
       "        vertical-align: top;\n",
       "    }\n",
       "\n",
       "    .dataframe thead th {\n",
       "        text-align: right;\n",
       "    }\n",
       "</style>\n",
       "<table border=\"1\" class=\"dataframe\">\n",
       "  <thead>\n",
       "    <tr style=\"text-align: right;\">\n",
       "      <th></th>\n",
       "      <th>features</th>\n",
       "      <th>importance</th>\n",
       "    </tr>\n",
       "  </thead>\n",
       "  <tbody>\n",
       "    <tr>\n",
       "      <th>132</th>\n",
       "      <td>SQBmeaned</td>\n",
       "      <td>0.052094</td>\n",
       "    </tr>\n",
       "    <tr>\n",
       "      <th>97</th>\n",
       "      <td>meaneduc</td>\n",
       "      <td>0.050667</td>\n",
       "    </tr>\n",
       "    <tr>\n",
       "      <th>131</th>\n",
       "      <td>SQBdependency</td>\n",
       "      <td>0.033773</td>\n",
       "    </tr>\n",
       "    <tr>\n",
       "      <th>94</th>\n",
       "      <td>dependency</td>\n",
       "      <td>0.031053</td>\n",
       "    </tr>\n",
       "    <tr>\n",
       "      <th>130</th>\n",
       "      <td>SQBovercrowding</td>\n",
       "      <td>0.027424</td>\n",
       "    </tr>\n",
       "  </tbody>\n",
       "</table>\n",
       "</div>"
      ],
      "text/plain": [
       "            features  importance\n",
       "132        SQBmeaned    0.052094\n",
       "97          meaneduc    0.050667\n",
       "131    SQBdependency    0.033773\n",
       "94        dependency    0.031053\n",
       "130  SQBovercrowding    0.027424"
      ]
     },
     "execution_count": 127,
     "metadata": {},
     "output_type": "execute_result"
    }
   ],
   "source": [
    "feature_importance.head()"
   ]
  },
  {
   "cell_type": "code",
   "execution_count": 128,
   "id": "f1e1f344",
   "metadata": {},
   "outputs": [],
   "source": [
    "## 10 important features\n",
    "imp_10=feature_importance.iloc[:10]"
   ]
  },
  {
   "cell_type": "code",
   "execution_count": 129,
   "id": "b72cc229",
   "metadata": {},
   "outputs": [
    {
     "data": {
      "text/plain": [
       "<AxesSubplot:xlabel='features', ylabel='importance'>"
      ]
     },
     "execution_count": 129,
     "metadata": {},
     "output_type": "execute_result"
    },
    {
     "data": {
      "image/png": "[encoded data removed]",
      "text/plain": [
       "<Figure size 1440x360 with 1 Axes>"
      ]
     },
     "metadata": {
      "needs_background": "light"
     },
     "output_type": "display_data"
    }
   ],
   "source": [
    "plt.figure(figsize=(20,5))\n",
    "sns.barplot(data=imp_10,x='features',y='importance')"
   ]
  },
  {
   "cell_type": "code",
   "execution_count": 130,
   "id": "5b878771",
   "metadata": {},
   "outputs": [
    {
     "data": {
      "text/plain": [
       "Index([], dtype='object')"
      ]
     },
     "execution_count": 130,
     "metadata": {},
     "output_type": "execute_result"
    }
   ],
   "source": [
    "test_data.columns[test_data.isna().any()==True]"
   ]
  },
  {
   "cell_type": "code",
   "execution_count": null,
   "id": "da639f77",
   "metadata": {},
   "outputs": [],
   "source": [
    "## Hence Data is cleaned already"
   ]
  },
  {
   "cell_type": "code",
   "execution_count": 134,
   "id": "ebf6e942",
   "metadata": {},
   "outputs": [],
   "source": [
    "from pprint import pprint"
   ]
  },
  {
   "cell_type": "code",
   "execution_count": 136,
   "id": "7e5ea6be",
   "metadata": {},
   "outputs": [
    {
     "name": "stdout",
     "output_type": "stream",
     "text": [
      "{'bootstrap': True,\n",
      " 'ccp_alpha': 0.0,\n",
      " 'class_weight': None,\n",
      " 'criterion': 'gini',\n",
      " 'max_depth': None,\n",
      " 'max_features': 'auto',\n",
      " 'max_leaf_nodes': None,\n",
      " 'max_samples': None,\n",
      " 'min_impurity_decrease': 0.0,\n",
      " 'min_impurity_split': None,\n",
      " 'min_samples_leaf': 1,\n",
      " 'min_samples_split': 2,\n",
      " 'min_weight_fraction_leaf': 0.0,\n",
      " 'n_estimators': 100,\n",
      " 'n_jobs': -1,\n",
      " 'oob_score': False,\n",
      " 'random_state': 100,\n",
      " 'verbose': 0,\n",
      " 'warm_start': False}\n"
     ]
    }
   ],
   "source": [
    "pprint(RFC.get_params())"
   ]
  },
  {
   "cell_type": "code",
   "execution_count": 137,
   "id": "7f290811",
   "metadata": {},
   "outputs": [],
   "source": []
  },
  {
   "cell_type": "code",
   "execution_count": null,
   "id": "d9bc8d4f",
   "metadata": {},
   "outputs": [],
   "source": []
  }
 ],
 "metadata": {
  "kernelspec": {
   "display_name": "Python 3",
   "language": "python",
   "name": "python3"
  },
  "language_info": {
   "codemirror_mode": {
    "name": "ipython",
    "version": 3
   },
   "file_extension": ".py",
   "mimetype": "text/x-python",
   "name": "python",
   "nbconvert_exporter": "python",
   "pygments_lexer": "ipython3",
   "version": "3.8.8"
  }
 },
 "nbformat": 4,
 "nbformat_minor": 5
}
